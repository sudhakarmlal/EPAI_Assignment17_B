{
  "nbformat": 4,
  "nbformat_minor": 0,
  "metadata": {
    "colab": {
      "name": "100_Python_Utilities (3).ipynb",
      "provenance": [],
      "include_colab_link": true
    },
    "kernelspec": {
      "name": "python3",
      "display_name": "Python 3"
    }
  },
  "cells": [
    {
      "cell_type": "markdown",
      "metadata": {
        "id": "view-in-github",
        "colab_type": "text"
      },
      "source": [
        "<a href=\"https://colab.research.google.com/github/sudhakarmlal/EPAI_Assignment17_B/blob/main/Assignment17_B.ipynb\" target=\"_parent\"><img src=\"https://colab.research.google.com/assets/colab-badge.svg\" alt=\"Open In Colab\"/></a>"
      ]
    },
    {
      "cell_type": "code",
      "metadata": {
        "colab": {
          "base_uri": "https://localhost:8080/"
        },
        "id": "OtPJt07fFmDt",
        "outputId": "6dcedc39-e1a3-41a5-f771-fa5bb74ccbd2"
      },
      "source": [
        "# 1 Program:\r\n",
        "\r\n",
        "#Write a program that accepts a comma separated sequence of words as \r\n",
        "#input and prints the words in a comma-separated sequence after sorting them alphabetically. \r\n",
        "#Suppose the following input is supplied to the program: without,hello,bag,world Then, the output should be: bag,hello,without,world\r\n",
        "\r\n",
        "\r\n",
        "items=[x for x in input().split(',')]\r\n",
        "items.sort()\r\n",
        "print(','.join(items))"
      ],
      "execution_count": null,
      "outputs": [
        {
          "output_type": "stream",
          "text": [
            "Hello,test the input,check the words in the sentence,split them by comma\n",
            "Hello,check the words in the sentence,split them by comma,test the input\n"
          ],
          "name": "stdout"
        }
      ]
    },
    {
      "cell_type": "code",
      "metadata": {
        "colab": {
          "base_uri": "https://localhost:8080/"
        },
        "id": "K2dD9iw1GJpo",
        "outputId": "0a7ae973-44c4-4791-de52-904bc957ade1"
      },
      "source": [
        "# 2 Program : Capitalizing set of lines given as input\r\n",
        "\r\n",
        "lines = []\r\n",
        "while True:\r\n",
        "    s = input()\r\n",
        "    if s:\r\n",
        "        lines.append(s.upper())\r\n",
        "    else:\r\n",
        "        break;\r\n",
        "\r\n",
        "for sentence in lines:\r\n",
        "    print(sentence)"
      ],
      "execution_count": null,
      "outputs": [
        {
          "output_type": "stream",
          "text": [
            "Hello How are u\n",
            "Hello Iam fine\n",
            "So whats up\n",
            "\n",
            "HELLO HOW ARE U\n",
            "HELLO IAM FINE\n",
            "SO WHATS UP\n"
          ],
          "name": "stdout"
        }
      ]
    },
    {
      "cell_type": "code",
      "metadata": {
        "colab": {
          "base_uri": "https://localhost:8080/"
        },
        "id": "Zdq9m5cYG3bE",
        "outputId": "1d256c0f-512b-4720-b1db-5f17e12ba4d3"
      },
      "source": [
        "# 3 Program :\r\n",
        "#Write a program that accepts a sequence of whitespace separated words as\r\n",
        "#input and prints the words after removing all duplicate words and sorting them alphanumerically. \r\n",
        "#Suppose the following input is supplied to the program: hello world and practice makes perfect and hello world again\r\n",
        "#Then, the output should be: again and hello makes perfect practice world\r\n",
        "\r\n",
        "s = input()\r\n",
        "words = [word for word in s.split(\" \")]\r\n",
        "print(\" \".join(sorted(list(set(words)))))\r\n",
        "\r\n"
      ],
      "execution_count": null,
      "outputs": [
        {
          "output_type": "stream",
          "text": [
            "hello world and practice makes perfect and hello world again\n",
            "again and hello makes perfect practice world\n"
          ],
          "name": "stdout"
        }
      ]
    },
    {
      "cell_type": "code",
      "metadata": {
        "colab": {
          "base_uri": "https://localhost:8080/"
        },
        "id": "ylHTZjXlI9c-",
        "outputId": "0e5b2905-8502-42a1-bc9d-d32cb57ed85a"
      },
      "source": [
        "#4 Function:\r\n",
        "#Define a class which has at least two methods: getString: to get a string from console input printString: to print the string in upper case. \r\n",
        "#Also please include simple test function to test the class methods.\r\n",
        "\r\n",
        "class InputOutString(object):\r\n",
        "    def __init__(self):\r\n",
        "        self.s = \"\"\r\n",
        "\r\n",
        "    def getString(self):\r\n",
        "        self.s = input()\r\n",
        "    \r\n",
        "    def printString(self):\r\n",
        "        print(self.s.upper())\r\n",
        "\r\n",
        "strObj = InputOutString()\r\n",
        "strObj.getString()\r\n",
        "strObj.printString()"
      ],
      "execution_count": null,
      "outputs": [
        {
          "output_type": "stream",
          "text": [
            "Test Input String \n",
            "TEST INPUT STRING \n"
          ],
          "name": "stdout"
        }
      ]
    },
    {
      "cell_type": "code",
      "metadata": {
        "colab": {
          "base_uri": "https://localhost:8080/"
        },
        "id": "CK41LhHKJ9dD",
        "outputId": "2a3be408-1507-4d48-cc66-f1f0e819bfa6"
      },
      "source": [
        "#5 Program:\r\n",
        "# Write a program which takes 2 digits, X,Y as input and generates a 2-dimensional array. \r\n",
        "## The element value in the i-th row and j-th column of the array should be i*j. Note: i=0,1.., X-1; j=0,1,¡­Y-1. Example Suppose the following inputs are given to the program: 3,5 \r\n",
        "## Then, the output of the program should be: [[0, 0, 0, 0, 0], [0, 1, 2, 3, 4], [0, 2, 4, 6, 8]]\r\n",
        "\r\n",
        "input_str = input()\r\n",
        "dimensions=[int(x) for x in input_str.split(',')]\r\n",
        "rowNum=dimensions[0]\r\n",
        "colNum=dimensions[1]\r\n",
        "multilist = [[0 for col in range(colNum)] for row in range(rowNum)]\r\n",
        "\r\n",
        "for row in range(rowNum):\r\n",
        "    for col in range(colNum):\r\n",
        "        multilist[row][col]= row*col\r\n",
        "\r\n",
        "print(multilist)"
      ],
      "execution_count": null,
      "outputs": [
        {
          "output_type": "stream",
          "text": [
            "3,5\n",
            "[[0, 0, 0, 0, 0], [0, 1, 2, 3, 4], [0, 2, 4, 6, 8]]\n"
          ],
          "name": "stdout"
        }
      ]
    },
    {
      "cell_type": "code",
      "metadata": {
        "colab": {
          "base_uri": "https://localhost:8080/"
        },
        "id": "oAA4zgQeKg_h",
        "outputId": "4236f61c-d0c7-477a-9c79-96b6875a7caa"
      },
      "source": [
        "#6 Program:\r\n",
        "\r\n",
        "#Write a program, which will find all such numbers between 4000 and 5000 (both included) \r\n",
        "#such that each digit of the number is an even number. \r\n",
        "#The numbers obtained should be printed in a comma-separated sequence on a single line.\r\n",
        "\r\n",
        "values = []\r\n",
        "for i in range(4000, 5001):\r\n",
        "    s = str(i)\r\n",
        "    if (int(s[0])%2==0) and (int(s[1])%2==0) and (int(s[2])%2==0) and (int(s[3])%2==0):\r\n",
        "        values.append(s)\r\n",
        "print(\",\".join(values))"
      ],
      "execution_count": null,
      "outputs": [
        {
          "output_type": "stream",
          "text": [
            "4000,4002,4004,4006,4008,4020,4022,4024,4026,4028,4040,4042,4044,4046,4048,4060,4062,4064,4066,4068,4080,4082,4084,4086,4088,4200,4202,4204,4206,4208,4220,4222,4224,4226,4228,4240,4242,4244,4246,4248,4260,4262,4264,4266,4268,4280,4282,4284,4286,4288,4400,4402,4404,4406,4408,4420,4422,4424,4426,4428,4440,4442,4444,4446,4448,4460,4462,4464,4466,4468,4480,4482,4484,4486,4488,4600,4602,4604,4606,4608,4620,4622,4624,4626,4628,4640,4642,4644,4646,4648,4660,4662,4664,4666,4668,4680,4682,4684,4686,4688,4800,4802,4804,4806,4808,4820,4822,4824,4826,4828,4840,4842,4844,4846,4848,4860,4862,4864,4866,4868,4880,4882,4884,4886,4888\n"
          ],
          "name": "stdout"
        }
      ]
    },
    {
      "cell_type": "code",
      "metadata": {
        "colab": {
          "base_uri": "https://localhost:8080/"
        },
        "id": "MQ6ii7jILAPA",
        "outputId": "cca42c1e-55ae-4e02-d576-a46658e33c4c"
      },
      "source": [
        "#7 Program:\r\n",
        "\r\n",
        "#Write a program that accepts a sentence and calculate the number of letters and digits. \r\n",
        "#Suppose the following input is supplied to the program: hello world! 123 Then, the output should be: LETTERS 10 DIGITS 3\r\n",
        "\r\n",
        "s = input()\r\n",
        "d={\"DIGITS\":0, \"LETTERS\":0}\r\n",
        "for c in s:\r\n",
        "    if c.isdigit():\r\n",
        "        d[\"DIGITS\"]+=1\r\n",
        "    elif c.isalpha():\r\n",
        "        d[\"LETTERS\"]+=1\r\n",
        "    else:\r\n",
        "        pass\r\n",
        "print(\"LETTERS\", d[\"LETTERS\"])\r\n",
        "print(\"DIGITS\", d[\"DIGITS\"])"
      ],
      "execution_count": null,
      "outputs": [
        {
          "output_type": "stream",
          "text": [
            "hello world! 123\n",
            "LETTERS 10\n",
            "DIGITS 3\n"
          ],
          "name": "stdout"
        }
      ]
    },
    {
      "cell_type": "code",
      "metadata": {
        "colab": {
          "base_uri": "https://localhost:8080/"
        },
        "id": "MH8MHvhkLW7w",
        "outputId": "5aeb7679-fc40-4c61-ebb3-01f6bb5f0454"
      },
      "source": [
        "#8 Program:\r\n",
        "\r\n",
        "#Write a program that accepts a sentence and calculate the number of upper case letters and lower case letters. Suppose the following input is supplied to the program: \r\n",
        "#Hello world! Then, the output should be: UPPER CASE 1 LOWER CASE 9\r\n",
        "\r\n",
        "s = input()\r\n",
        "d={\"UPPER CASE\":0, \"LOWER CASE\":0}\r\n",
        "for c in s:\r\n",
        "    if c.isupper():\r\n",
        "        d[\"UPPER CASE\"]+=1\r\n",
        "    elif c.islower():\r\n",
        "        d[\"LOWER CASE\"]+=1\r\n",
        "    else:\r\n",
        "        pass\r\n",
        "print(\"UPPER CASE\", d[\"UPPER CASE\"])\r\n",
        "print(\"LOWER CASE\", d[\"LOWER CASE\"])\r\n",
        "\r\n"
      ],
      "execution_count": null,
      "outputs": [
        {
          "output_type": "stream",
          "text": [
            "Hello world!\n",
            "UPPER CASE 1\n",
            "LOWER CASE 9\n"
          ],
          "name": "stdout"
        }
      ]
    },
    {
      "cell_type": "code",
      "metadata": {
        "id": "1ieq92JvCh-s",
        "colab": {
          "base_uri": "https://localhost:8080/"
        },
        "outputId": "88e6e889-133c-48b9-f94b-8dfcc3619c14"
      },
      "source": [
        "# 9 Program:\r\n",
        "\r\n",
        "# Write a program to Display the powers of 3 using anonymous function\r\n",
        "\r\n",
        "terms = 10\r\n",
        "\r\n",
        "\r\n",
        "# use anonymous function\r\n",
        "result = list(map(lambda x: 3 ** x, range(terms)))\r\n",
        "\r\n",
        "print(\"The total terms are:\",terms)\r\n",
        "for i in range(terms):\r\n",
        "   print(\"3 raised to power\",i,\"is\",result[i])"
      ],
      "execution_count": null,
      "outputs": [
        {
          "output_type": "stream",
          "text": [
            "The total terms are: 10\n",
            "3 raised to power 0 is 1\n",
            "3 raised to power 1 is 3\n",
            "3 raised to power 2 is 9\n",
            "3 raised to power 3 is 27\n",
            "3 raised to power 4 is 81\n",
            "3 raised to power 5 is 243\n",
            "3 raised to power 6 is 729\n",
            "3 raised to power 7 is 2187\n",
            "3 raised to power 8 is 6561\n",
            "3 raised to power 9 is 19683\n"
          ],
          "name": "stdout"
        }
      ]
    },
    {
      "cell_type": "code",
      "metadata": {
        "colab": {
          "base_uri": "https://localhost:8080/"
        },
        "id": "GtEQL1gNEx6g",
        "outputId": "bcd06530-19e4-41c3-ecbc-4f5f7243eb30"
      },
      "source": [
        "#10 Python Function find the factors of a number\r\n",
        "\r\n",
        "# This function computes the factor of the argument passed\r\n",
        "def print_factors(x):\r\n",
        "   print(\"The factors of\",x,\"are:\")\r\n",
        "   for i in range(1, x + 1):\r\n",
        "       if x % i == 0:\r\n",
        "           print(i)\r\n",
        "\r\n",
        "num = 120\r\n",
        "\r\n",
        "print_factors(num)"
      ],
      "execution_count": null,
      "outputs": [
        {
          "output_type": "stream",
          "text": [
            "The factors of 120 are:\n",
            "1\n",
            "2\n",
            "3\n",
            "4\n",
            "5\n",
            "6\n",
            "8\n",
            "10\n",
            "12\n",
            "15\n",
            "20\n",
            "24\n",
            "30\n",
            "40\n",
            "60\n",
            "120\n"
          ],
          "name": "stdout"
        }
      ]
    },
    {
      "cell_type": "code",
      "metadata": {
        "colab": {
          "base_uri": "https://localhost:8080/"
        },
        "id": "gxTN6ArZFd52",
        "outputId": "12173aa8-a36b-4d85-c894-3a3decf6b9c4"
      },
      "source": [
        "#11 Program \r\n",
        "\r\n",
        "#Write a program that computes the value of a+aa+aaa+aaaa with a given digit as the value of a. \r\n",
        "#Suppose the following input is supplied to the program: 9 Then, the output should be: 11106\r\n",
        "\r\n",
        "a = input()\r\n",
        "n1 = int( \"%s\" % a )\r\n",
        "n2 = int( \"%s%s\" % (a,a) )\r\n",
        "n3 = int( \"%s%s%s\" % (a,a,a) )\r\n",
        "n4 = int( \"%s%s%s%s\" % (a,a,a,a) )\r\n",
        "print(n1+n2+n3+n4)"
      ],
      "execution_count": null,
      "outputs": [
        {
          "output_type": "stream",
          "text": [
            "9\n",
            "11106\n"
          ],
          "name": "stdout"
        }
      ]
    },
    {
      "cell_type": "code",
      "metadata": {
        "colab": {
          "base_uri": "https://localhost:8080/"
        },
        "id": "ZMDDmaZqMig5",
        "outputId": "3a309a34-7396-408a-a5a6-9a6452122eb6"
      },
      "source": [
        "#12 Program\r\n",
        "\r\n",
        "#Use a list comprehension to square each odd number in a list. The list is input by a sequence of comma-separated numbers. \r\n",
        "#Suppose the following input is supplied to the program: 1,2,3,4,5,6,7,8,9 Then, the output should be: 1,3,5,7,9\r\n",
        "\r\n",
        "\r\n",
        "values = input()\r\n",
        "numbers = [x for x in values.split(\",\") if int(x)%2!=0]\r\n",
        "print(\",\".join(numbers))\r\n"
      ],
      "execution_count": null,
      "outputs": [
        {
          "output_type": "stream",
          "text": [
            "1,2,3,4,5,6,7,8,9\n",
            "1,3,5,7,9\n"
          ],
          "name": "stdout"
        }
      ]
    },
    {
      "cell_type": "code",
      "metadata": {
        "colab": {
          "base_uri": "https://localhost:8080/"
        },
        "id": "8aFVgfbFQwsa",
        "outputId": "47fc49e1-35f2-4f97-8b0f-76964b79533a"
      },
      "source": [
        "#13 Program\r\n",
        "\r\n",
        "# Write a program that computes the net amount of a bank account based a transaction log from console input. \r\n",
        "# The transaction log format is shown as following: D 100 W 200\r\n",
        "\r\n",
        "# D means deposit while W means withdrawal. \r\n",
        "# Suppose the following input is supplied to the program: D 300 D 300 W 200 D 100 Then, the output should be: 500\r\n",
        "\r\n",
        "netAmount = 0\r\n",
        "while True:\r\n",
        "    s = input()\r\n",
        "    if not s:\r\n",
        "        break\r\n",
        "    values = s.split(\" \")\r\n",
        "    operation = values[0]\r\n",
        "    amount = int(values[1])\r\n",
        "    if operation==\"D\":\r\n",
        "        netAmount+=amount\r\n",
        "    elif operation==\"W\":\r\n",
        "        netAmount-=amount\r\n",
        "    else:\r\n",
        "        pass\r\n",
        "print(netAmount)\r\n",
        "\r\n",
        "\r\n"
      ],
      "execution_count": null,
      "outputs": [
        {
          "output_type": "stream",
          "text": [
            "D 300 D 300 W 200 D 100\n",
            "\n",
            "300\n"
          ],
          "name": "stdout"
        }
      ]
    },
    {
      "cell_type": "code",
      "metadata": {
        "colab": {
          "base_uri": "https://localhost:8080/"
        },
        "id": "ELV5dCJQM-2I",
        "outputId": "711a5131-183e-46eb-e0ac-9e5e2509ab8c"
      },
      "source": [
        "#14 Program\r\n",
        "\r\n",
        "#A website requires the users to input username and password to register. Write a program to check the validity of password input by users. \r\n",
        "#Following are the criteria for checking the password:\r\n",
        "\r\n",
        "#At least 1 letter between [a-z]\r\n",
        "#At least 1 number between [0-9]\r\n",
        "#At least 1 letter between [A-Z]\r\n",
        "#At least 1 character from [$#@]\r\n",
        "#Minimum length of transaction password: 6\r\n",
        "#Maximum length of transaction password: 12 Your program should accept a sequence of \r\n",
        "#comma separated passwords and will check them according to the above criteria. \r\n",
        "#Passwords that match the criteria are to be printed, each separated by a comma. \r\n",
        "#Example If the following passwords are given as input to the program: ABd1234@1,a F1#,2w3E*,2We3345 \r\n",
        "# Then, the output of the program should be: ABd1234@1\r\n",
        "\r\n",
        "\r\n",
        "import re\r\n",
        "value = []\r\n",
        "items=[x for x in input().split(',')]\r\n",
        "for p in items:\r\n",
        "    if len(p)<6 or len(p)>12:\r\n",
        "        continue\r\n",
        "    else:\r\n",
        "        pass\r\n",
        "    if not re.search(\"[a-z]\",p):\r\n",
        "        continue\r\n",
        "    elif not re.search(\"[0-9]\",p):\r\n",
        "        continue\r\n",
        "    elif not re.search(\"[A-Z]\",p):\r\n",
        "        continue\r\n",
        "    elif not re.search(\"[$#@]\",p):\r\n",
        "        continue\r\n",
        "    elif re.search(\"\\s\",p):\r\n",
        "        continue\r\n",
        "    else:\r\n",
        "        pass\r\n",
        "    value.append(p)\r\n",
        "print(\",\".join(value))\r\n"
      ],
      "execution_count": null,
      "outputs": [
        {
          "output_type": "stream",
          "text": [
            "ABd1234@1,a F1#,2w3E*,2We3345\n",
            "ABd1234@1\n"
          ],
          "name": "stdout"
        }
      ]
    },
    {
      "cell_type": "code",
      "metadata": {
        "colab": {
          "base_uri": "https://localhost:8080/"
        },
        "id": "t60rKMf6ODbP",
        "outputId": "b3528df5-46f7-4b7d-c454-538bd55a19ac"
      },
      "source": [
        "#15 Program\r\n",
        "\r\n",
        "#Define a class with a generator which can iterate the numbers, \r\n",
        "#which are divisible by 7, between a given range 0 and n.\r\n",
        "def putNumbers(n):\r\n",
        "    i = 0\r\n",
        "    while i<n:\r\n",
        "        j=i\r\n",
        "        i=i+1\r\n",
        "        if j%7==0:\r\n",
        "            yield j\r\n",
        "\r\n",
        "for i in putNumbers(100):\r\n",
        "    print(i)"
      ],
      "execution_count": null,
      "outputs": [
        {
          "output_type": "stream",
          "text": [
            "0\n",
            "7\n",
            "14\n",
            "21\n",
            "28\n",
            "35\n",
            "42\n",
            "49\n",
            "56\n",
            "63\n",
            "70\n",
            "77\n",
            "84\n",
            "91\n",
            "98\n"
          ],
          "name": "stdout"
        }
      ]
    },
    {
      "cell_type": "code",
      "metadata": {
        "colab": {
          "base_uri": "https://localhost:8080/"
        },
        "id": "Ro74fPxCQWjV",
        "outputId": "49d5a060-9c37-4120-9ec8-0f09f19eaca4"
      },
      "source": [
        "#16 Program\r\n",
        "\r\n",
        "#A robot moves in a plane starting from the original point (0,0). \r\n",
        "#The robot can move toward UP, DOWN, LEFT and RIGHT with a given steps. \r\n",
        "#The trace of robot movement is shown as the following: UP 5 DOWN 3 LEFT 3 RIGHT 2 ¡­\r\n",
        "#The numbers after the direction are steps. \r\n",
        "#Please write a program to compute the distance from current position \r\n",
        "#after a sequence of movement and original point. \r\n",
        "#If the distance is a float, then just print the nearest integer. \r\n",
        "#Example: \r\n",
        "#If the following tuples are given as input to the program: UP 5 DOWN 3 LEFT 3 RIGHT 2 Then, the output of the program should be: 2\r\n",
        "\r\n",
        "import math\r\n",
        "pos = [0,0]\r\n",
        "while True:\r\n",
        "    s = input()\r\n",
        "    if not s:\r\n",
        "        break\r\n",
        "    movement = s.split(\" \")\r\n",
        "    direction = movement[0]\r\n",
        "    steps = int(movement[1])\r\n",
        "    if direction==\"UP\":\r\n",
        "        pos[0]+=steps\r\n",
        "    elif direction==\"DOWN\":\r\n",
        "        pos[0]-=steps\r\n",
        "    elif direction==\"LEFT\":\r\n",
        "        pos[1]-=steps\r\n",
        "    elif direction==\"RIGHT\":\r\n",
        "        pos[1]+=steps\r\n",
        "    else:\r\n",
        "        pass\r\n",
        "\r\n",
        "print(int(round(math.sqrt(pos[1]**2+pos[0]**2))))\r\n",
        "\r\n"
      ],
      "execution_count": null,
      "outputs": [
        {
          "output_type": "stream",
          "text": [
            "UP 5 DOWN 3 LEFT 3 RIGHT 2\n",
            "\n",
            "5\n"
          ],
          "name": "stdout"
        }
      ]
    },
    {
      "cell_type": "code",
      "metadata": {
        "colab": {
          "base_uri": "https://localhost:8080/"
        },
        "id": "H7cRSIfuRXUR",
        "outputId": "c3c7721e-7d83-48c6-811a-70bb503741c6"
      },
      "source": [
        "#17 Program\r\n",
        "\r\n",
        "#Write a program to compute the frequency of the words from the input. \r\n",
        "#The output should output after sorting the key alphanumerically. \r\n",
        "#Suppose the following input is supplied to the program: \r\n",
        "#New to Python or choosing between Python 2 and Python 3? Read Python 2 or Python 3. \r\n",
        "#Then, the output should be: 2:2 3.:1 3?:1 New:1 Python:5 Read:1 and:1 between:1 choosing:1 or:2 to:1\r\n",
        "\r\n",
        "freq = {}   # frequency of words in text\r\n",
        "line = input()\r\n",
        "for word in line.split():\r\n",
        "    freq[word] = freq.get(word,0)+1\r\n",
        "\r\n",
        "words = list(freq.keys())\r\n",
        "print(words.sort())\r\n",
        "\r\n",
        "for w in words:\r\n",
        "    print(\"%s:%d\" % (w,freq[w]))\r\n",
        "\r\n",
        "\r\n",
        "\r\n"
      ],
      "execution_count": null,
      "outputs": [
        {
          "output_type": "stream",
          "text": [
            "New to Python or choosing between Python 2 and Python 3? Read Python 2 or Python 3.\n",
            "None\n",
            "2:2\n",
            "3.:1\n",
            "3?:1\n",
            "New:1\n",
            "Python:5\n",
            "Read:1\n",
            "and:1\n",
            "between:1\n",
            "choosing:1\n",
            "or:2\n",
            "to:1\n"
          ],
          "name": "stdout"
        }
      ]
    },
    {
      "cell_type": "code",
      "metadata": {
        "colab": {
          "base_uri": "https://localhost:8080/"
        },
        "id": "oO5L1TErS6Vh",
        "outputId": "917d7c91-a518-4478-9064-997802388e85"
      },
      "source": [
        "#18 Function\r\n",
        "#Write a method which can calculate square value of number\r\n",
        "\r\n",
        "def square(num):\r\n",
        "    return num ** 2\r\n",
        "\r\n",
        "print(square(2))\r\n",
        "print(square(3))\r\n"
      ],
      "execution_count": null,
      "outputs": [
        {
          "output_type": "stream",
          "text": [
            "4\n",
            "9\n"
          ],
          "name": "stdout"
        }
      ]
    },
    {
      "cell_type": "code",
      "metadata": {
        "colab": {
          "base_uri": "https://localhost:8080/"
        },
        "id": "d354d79KTPbN",
        "outputId": "41b029cb-7a33-4438-e596-0fc5d0d4e1ec"
      },
      "source": [
        "#19 Function\r\n",
        "\r\n",
        "# Python has many built-in functions, and if you do not know how to use it, you can read document online or find some books. But Python has a built-in document function for every built-in functions.\r\n",
        "\r\n",
        "#Please write a program to print some Python built-in functions documents, such as abs(), int(), raw_input()\r\n",
        "\r\n",
        "#And add document for your own function Hints: The built-in document method is doc\r\n",
        "\r\n",
        "print(abs.__doc__)\r\n",
        "print(int.__doc__)\r\n",
        "print(input.__doc__)\r\n",
        "\r\n",
        "def square(num):\r\n",
        "    '''Return the square value of the input number.\r\n",
        "    \r\n",
        "    The input number must be integer.\r\n",
        "    '''\r\n",
        "    return num ** 2\r\n",
        "\r\n",
        "print(square(2))\r\n",
        "print(square.__doc__)\r\n",
        "\r\n"
      ],
      "execution_count": null,
      "outputs": [
        {
          "output_type": "stream",
          "text": [
            "Return the absolute value of the argument.\n",
            "int(x=0) -> integer\n",
            "int(x, base=10) -> integer\n",
            "\n",
            "Convert a number or string to an integer, or return 0 if no arguments\n",
            "are given.  If x is a number, return x.__int__().  For floating point\n",
            "numbers, this truncates towards zero.\n",
            "\n",
            "If x is not a number or if base is given, then x must be a string,\n",
            "bytes, or bytearray instance representing an integer literal in the\n",
            "given base.  The literal can be preceded by '+' or '-' and be surrounded\n",
            "by whitespace.  The base defaults to 10.  Valid bases are 0 and 2-36.\n",
            "Base 0 means to interpret the base from the string as an integer literal.\n",
            ">>> int('0b100', base=0)\n",
            "4\n",
            "Forward raw_input to frontends\n",
            "\n",
            "        Raises\n",
            "        ------\n",
            "        StdinNotImplentedError if active frontend doesn't support stdin.\n",
            "        \n",
            "4\n",
            "Return the square value of the input number.\n",
            "    \n",
            "    The input number must be integer.\n",
            "    \n"
          ],
          "name": "stdout"
        }
      ]
    },
    {
      "cell_type": "code",
      "metadata": {
        "colab": {
          "base_uri": "https://localhost:8080/"
        },
        "id": "clztrb_8Tjxv",
        "outputId": "8854d139-d254-4996-fa1e-16fd0e33ef40"
      },
      "source": [
        "#20 Function\r\n",
        "# Define a class, which have a class parameter and have a same instance parameter.\r\n",
        "\r\n",
        "class Person:\r\n",
        "    # Define the class parameter \"name\"\r\n",
        "    name = \"Person\"\r\n",
        "    \r\n",
        "    def __init__(self, name = None):\r\n",
        "        # self.name is the instance parameter\r\n",
        "        self.name = name\r\n",
        "\r\n",
        "jeffrey = Person(\"Jeffrey\")\r\n",
        "print(\"%s name is %s\" % (Person.name, jeffrey.name))\r\n",
        "\r\n",
        "nico = Person()\r\n",
        "nico.name = \"Nico\"\r\n",
        "print(\"%s name is %s\" % (Person.name, nico.name))"
      ],
      "execution_count": null,
      "outputs": [
        {
          "output_type": "stream",
          "text": [
            "Person name is Jeffrey\n",
            "Person name is Nico\n"
          ],
          "name": "stdout"
        }
      ]
    },
    {
      "cell_type": "code",
      "metadata": {
        "colab": {
          "base_uri": "https://localhost:8080/"
        },
        "id": "dA3A4mi3UniV",
        "outputId": "4d1d40c6-8c48-45dd-d1cf-90f1f34a823e"
      },
      "source": [
        "#21 Function\r\n",
        "#Define a function that can convert a integer into a string and print it in console\r\n",
        "\r\n",
        "def printValue(n):\r\n",
        "    print(str(n))\r\n",
        "\r\n",
        "printValue(3)"
      ],
      "execution_count": null,
      "outputs": [
        {
          "output_type": "stream",
          "text": [
            "3\n"
          ],
          "name": "stdout"
        }
      ]
    },
    {
      "cell_type": "code",
      "metadata": {
        "colab": {
          "base_uri": "https://localhost:8080/"
        },
        "id": "N0He9_Kcc22d",
        "outputId": "26bde90d-08aa-4ff9-e691-32cd6cd1b26e"
      },
      "source": [
        "#22 Function\r\n",
        "\r\n",
        "#Define a function that can receive two integral numbers in string form and compute their sum and then print it in console.\r\n",
        "\r\n",
        "def printValue(s1,s2):\r\n",
        "    print(int(s1)+int(s2))\r\n",
        "\r\n",
        "printValue(\"3\",\"4\")"
      ],
      "execution_count": null,
      "outputs": [
        {
          "output_type": "stream",
          "text": [
            "7\n"
          ],
          "name": "stdout"
        }
      ]
    },
    {
      "cell_type": "code",
      "metadata": {
        "colab": {
          "base_uri": "https://localhost:8080/"
        },
        "id": "XatXWFgQdMg3",
        "outputId": "899c0777-ae47-4c9e-94a3-24840e1375bb"
      },
      "source": [
        "# 23 Function\r\n",
        "#Define a function that can accept two strings as input and concatenate them and then print it in console.\r\n",
        "def printValue(s1,s2):\r\n",
        "    print(s1+s2)\r\n",
        "\r\n",
        "printValue(\"3\",\"4\") #34"
      ],
      "execution_count": null,
      "outputs": [
        {
          "output_type": "stream",
          "text": [
            "34\n"
          ],
          "name": "stdout"
        }
      ]
    },
    {
      "cell_type": "code",
      "metadata": {
        "colab": {
          "base_uri": "https://localhost:8080/"
        },
        "id": "AnrSUqdp0U7S",
        "outputId": "cc234f30-94c0-4689-da93-38b579b579ba"
      },
      "source": [
        "#24 Function\r\n",
        "#Define a function that can accept two strings as input and print the string with maximum length in console. \r\n",
        "#If two strings have the same length, then the function should print al l strings line by line.\r\n",
        "\r\n",
        "def printValue(s1,s2):\r\n",
        "    len1 = len(s1)\r\n",
        "    len2 = len(s2)\r\n",
        "    if len1>len2:\r\n",
        "        print(s1)\r\n",
        "    elif len2>len1:\r\n",
        "        print(s2)\r\n",
        "    else:\r\n",
        "        print(s1)\r\n",
        "        print(s2)\r\n",
        "        \r\n",
        "printValue(\"one\",\"three\")"
      ],
      "execution_count": null,
      "outputs": [
        {
          "output_type": "stream",
          "text": [
            "three\n"
          ],
          "name": "stdout"
        }
      ]
    },
    {
      "cell_type": "code",
      "metadata": {
        "colab": {
          "base_uri": "https://localhost:8080/"
        },
        "id": "Bc2VJiyd0i6P",
        "outputId": "9479c8c4-4e26-4734-b0b7-adc941508128"
      },
      "source": [
        "#25th Function\r\n",
        "\r\n",
        "#Define a function which can print a dictionary where the \r\n",
        "#keys are numbers between 1 and 20 (both included) and the values are square of keys.\r\n",
        "\r\n",
        "def printDict():\r\n",
        "\td=dict()\r\n",
        "\tfor i in range(1,21):\r\n",
        "\t\td[i]=i**2\r\n",
        "\tprint(d)\r\n",
        "\r\n",
        "printDict()"
      ],
      "execution_count": null,
      "outputs": [
        {
          "output_type": "stream",
          "text": [
            "{1: 1, 2: 4, 3: 9, 4: 16, 5: 25, 6: 36, 7: 49, 8: 64, 9: 81, 10: 100, 11: 121, 12: 144, 13: 169, 14: 196, 15: 225, 16: 256, 17: 289, 18: 324, 19: 361, 20: 400}\n"
          ],
          "name": "stdout"
        }
      ]
    },
    {
      "cell_type": "code",
      "metadata": {
        "colab": {
          "base_uri": "https://localhost:8080/"
        },
        "id": "PX9t5tP0Htzu",
        "outputId": "6756c3b5-a57e-4b5d-e8db-a507342588b4"
      },
      "source": [
        "# 26th Function\r\n",
        "\r\n",
        "#Define a function which can generate a dictionary where the keys are numbers between \r\n",
        "#1 and 20 (both included) and the values are square of keys. The function should just print the values only.\r\n",
        "\r\n",
        "def printDict():\r\n",
        "\td=dict()\r\n",
        "\tfor i in range(1,21):\r\n",
        "\t\td[i]=i**2\r\n",
        "\tfor (k,v) in d.items():\t\r\n",
        "\t\tprint(v)\r\n",
        "\r\n",
        "printDict()"
      ],
      "execution_count": null,
      "outputs": [
        {
          "output_type": "stream",
          "text": [
            "1\n",
            "4\n",
            "9\n",
            "16\n",
            "25\n",
            "36\n",
            "49\n",
            "64\n",
            "81\n",
            "100\n",
            "121\n",
            "144\n",
            "169\n",
            "196\n",
            "225\n",
            "256\n",
            "289\n",
            "324\n",
            "361\n",
            "400\n"
          ],
          "name": "stdout"
        }
      ]
    },
    {
      "cell_type": "code",
      "metadata": {
        "colab": {
          "base_uri": "https://localhost:8080/"
        },
        "id": "-7fN1T73H6Ux",
        "outputId": "f8750cfd-7e2a-4170-e2cc-bcecfcff51bb"
      },
      "source": [
        "#27th Function\r\n",
        "\r\n",
        "#Define a function which can generate a dictionary where the keys are numbers between \r\n",
        "#1 and 20 (both included) and the values are square of keys. The function should just print the keys only.\r\n",
        "\r\n",
        "def printDict():\r\n",
        "\td=dict()\r\n",
        "\tfor i in range(1,21):\r\n",
        "\t\td[i]=i**2\r\n",
        "\tfor k in d.keys():\t\r\n",
        "\t\tprint(k)\r\n",
        "\r\n",
        "printDict()"
      ],
      "execution_count": null,
      "outputs": [
        {
          "output_type": "stream",
          "text": [
            "1\n",
            "2\n",
            "3\n",
            "4\n",
            "5\n",
            "6\n",
            "7\n",
            "8\n",
            "9\n",
            "10\n",
            "11\n",
            "12\n",
            "13\n",
            "14\n",
            "15\n",
            "16\n",
            "17\n",
            "18\n",
            "19\n",
            "20\n"
          ],
          "name": "stdout"
        }
      ]
    },
    {
      "cell_type": "code",
      "metadata": {
        "colab": {
          "base_uri": "https://localhost:8080/"
        },
        "id": "kKOv5jScIGyj",
        "outputId": "c66845d3-c7e7-47f9-ba45-5f82660f7805"
      },
      "source": [
        "#28th Function\r\n",
        "\r\n",
        "#Define a function which can generate and print a list where the values are square of numbers between 1 and 20 (both included).\r\n",
        "\r\n",
        "def printList():\r\n",
        "\tli=list()\r\n",
        "\tfor i in range(1,21):\r\n",
        "\t\tli.append(i**2)\r\n",
        "\tprint(li)\r\n",
        "\r\n",
        "printList()"
      ],
      "execution_count": null,
      "outputs": [
        {
          "output_type": "stream",
          "text": [
            "[1, 4, 9, 16, 25, 36, 49, 64, 81, 100, 121, 144, 169, 196, 225, 256, 289, 324, 361, 400]\n"
          ],
          "name": "stdout"
        }
      ]
    },
    {
      "cell_type": "code",
      "metadata": {
        "colab": {
          "base_uri": "https://localhost:8080/"
        },
        "id": "JgUmUJJMITsQ",
        "outputId": "299dd4bb-47ae-44ce-b4bc-138a9a84ab4d"
      },
      "source": [
        "#29th Function\r\n",
        "\r\n",
        "#Define a function which can generate a list where the values are square of numbers between\r\n",
        "# 1 and 20 (both included). Then the function needs to print the first 5 elements in the list.\r\n",
        "\r\n",
        "def printList():\r\n",
        "\tli=list()\r\n",
        "\tfor i in range(1,21):\r\n",
        "\t\tli.append(i**2)\r\n",
        "\tprint(li[:5])\r\n",
        "\r\n",
        "printList()"
      ],
      "execution_count": null,
      "outputs": [
        {
          "output_type": "stream",
          "text": [
            "[1, 4, 9, 16, 25]\n"
          ],
          "name": "stdout"
        }
      ]
    },
    {
      "cell_type": "code",
      "metadata": {
        "colab": {
          "base_uri": "https://localhost:8080/"
        },
        "id": "_FyGfTAEIfMR",
        "outputId": "426c69fa-fff3-4bc0-b81d-fc69a6ae015d"
      },
      "source": [
        "#30 Function\r\n",
        "\r\n",
        "#Define a function which can generate a list where the values are square of numbers between \r\n",
        "#1 and 20 (both included). Then the function needs to print the last 5 elements in the list.\r\n",
        "\r\n",
        "def printList():\r\n",
        "\tli=list()\r\n",
        "\tfor i in range(1,21):\r\n",
        "\t\tli.append(i**2)\r\n",
        "\tprint(li[-5:])\r\n",
        "\r\n",
        "printList()"
      ],
      "execution_count": null,
      "outputs": [
        {
          "output_type": "stream",
          "text": [
            "[256, 289, 324, 361, 400]\n"
          ],
          "name": "stdout"
        }
      ]
    },
    {
      "cell_type": "code",
      "metadata": {
        "colab": {
          "base_uri": "https://localhost:8080/"
        },
        "id": "6uwj8jZSIrLV",
        "outputId": "ba00940d-bac7-481b-9d66-b42248cf87ca"
      },
      "source": [
        "#31 Function\r\n",
        "\r\n",
        "#Define a function which can generate a list where the values are square of numbers between \r\n",
        "#1 and 20 (both included). Then the function needs to print all values except the first 5 elements in the list.\r\n",
        "\r\n",
        "def printList():\r\n",
        "\tli=list()\r\n",
        "\tfor i in range(1,21):\r\n",
        "\t\tli.append(i**2)\r\n",
        "\tprint (li[5:])\r\n",
        "\r\n",
        "printList()"
      ],
      "execution_count": null,
      "outputs": [
        {
          "output_type": "stream",
          "text": [
            "[36, 49, 64, 81, 100, 121, 144, 169, 196, 225, 256, 289, 324, 361, 400]\n"
          ],
          "name": "stdout"
        }
      ]
    },
    {
      "cell_type": "code",
      "metadata": {
        "colab": {
          "base_uri": "https://localhost:8080/"
        },
        "id": "shtcj9yvI4-P",
        "outputId": "b0c74c70-ba56-4263-d977-4df2f6903660"
      },
      "source": [
        "#32 Function\r\n",
        "\r\n",
        "#Define a function which can generate and print a tuple \r\n",
        "#where the value are square of numbers between 1 and 20 (both included).\r\n",
        "\r\n",
        "def printTuple():\r\n",
        "\tli=list()\r\n",
        "\tfor i in range(1,21):\r\n",
        "\t\tli.append(i**2)\r\n",
        "\tprint(tuple(li))\r\n",
        "\t\t\r\n",
        "printTuple()"
      ],
      "execution_count": null,
      "outputs": [
        {
          "output_type": "stream",
          "text": [
            "(1, 4, 9, 16, 25, 36, 49, 64, 81, 100, 121, 144, 169, 196, 225, 256, 289, 324, 361, 400)\n"
          ],
          "name": "stdout"
        }
      ]
    },
    {
      "cell_type": "code",
      "metadata": {
        "colab": {
          "base_uri": "https://localhost:8080/"
        },
        "id": "p7imFAPEJEKp",
        "outputId": "f40acf54-669f-4f87-e25b-409747f016f3"
      },
      "source": [
        "#33 Function\r\n",
        "#With a given tuple (1,2,3,4,5,6,7,8,9,10), write a program to\r\n",
        "\r\n",
        "#print the first half values in one line and the last half values in one line.\r\n",
        "\r\n",
        "tp=(1,2,3,4,5,6,7,8,9,10)\r\n",
        "tp1=tp[:5]\r\n",
        "tp2=tp[5:]\r\n",
        "print(tp1)\r\n",
        "print(tp2)"
      ],
      "execution_count": null,
      "outputs": [
        {
          "output_type": "stream",
          "text": [
            "(1, 2, 3, 4, 5)\n",
            "(6, 7, 8, 9, 10)\n"
          ],
          "name": "stdout"
        }
      ]
    },
    {
      "cell_type": "code",
      "metadata": {
        "colab": {
          "base_uri": "https://localhost:8080/"
        },
        "id": "1k-YmC6aJQLm",
        "outputId": "1de98fe7-b499-4447-a252-351f837cb66b"
      },
      "source": [
        "#34 Program\r\n",
        "\r\n",
        "#Write a program to generate and print another tuple whose values are even numbers in the given tuple (1,2,3,4,5,6,7,8,9,10).\r\n",
        "\r\n",
        "tp=(1,2,3,4,5,6,7,8,9,10)\r\n",
        "li=list()\r\n",
        "for i in range(len(tp)):\r\n",
        "\tif tp[i]%2==0:\r\n",
        "\t\tli.append(tp[i])\r\n",
        "\r\n",
        "tp2=tuple(li)\r\n",
        "print(tp2)"
      ],
      "execution_count": null,
      "outputs": [
        {
          "output_type": "stream",
          "text": [
            "(2, 4, 6, 8, 10)\n"
          ],
          "name": "stdout"
        }
      ]
    },
    {
      "cell_type": "code",
      "metadata": {
        "colab": {
          "base_uri": "https://localhost:8080/"
        },
        "id": "CIovkgglJkv7",
        "outputId": "2e325ec6-dee2-4a4a-acc3-bcb49d8d58f4"
      },
      "source": [
        "#35 Program\r\n",
        "\r\n",
        "#Write a program which accepts a string as input to print \r\n",
        "#\"Yes\" if the string is \"yes\" or \"YES\" or \"Yes\", otherwise print \"No\".\r\n",
        "\r\n",
        "s= input()\r\n",
        "if s==\"yes\" or s==\"YES\" or s==\"Yes\":\r\n",
        "    print (\"Yes\")\r\n",
        "else:\r\n",
        "    print( \"No\")"
      ],
      "execution_count": null,
      "outputs": [
        {
          "output_type": "stream",
          "text": [
            "Junk\n",
            "No\n"
          ],
          "name": "stdout"
        }
      ]
    },
    {
      "cell_type": "code",
      "metadata": {
        "colab": {
          "base_uri": "https://localhost:8080/"
        },
        "id": "YDQczkc4KIUu",
        "outputId": "65a9b29a-1bff-4a38-9122-dcc0280e55ad"
      },
      "source": [
        "#36 Program\r\n",
        "\r\n",
        "#Write a program which can filter even numbers in a \r\n",
        "#list by using filter function. The list is: [1,2,3,4,5,6,7,8,9,10].\r\n",
        "\r\n",
        "li = [1,2,3,4,5,6,7,8,9,10]\r\n",
        "evenNumbers = list(filter(lambda x: x%2==0, li))\r\n",
        "print(evenNumbers)"
      ],
      "execution_count": null,
      "outputs": [
        {
          "output_type": "stream",
          "text": [
            "[2, 4, 6, 8, 10]\n"
          ],
          "name": "stdout"
        }
      ]
    },
    {
      "cell_type": "code",
      "metadata": {
        "colab": {
          "base_uri": "https://localhost:8080/"
        },
        "id": "dCZuzQ-5K3ci",
        "outputId": "b748cef6-a5ac-4868-b45a-b5bf6b478e88"
      },
      "source": [
        "#37 Program\r\n",
        "#Write a program which can map()\r\n",
        "#to make a list whose elements are square of elements in [1,2,3,4,5,6,7,8,9,10].\r\n",
        "\r\n",
        "li = [1,2,3,4,5,6,7,8,9,10]\r\n",
        "squaredNumbers = list(map(lambda x: x**2, li))\r\n",
        "print(squaredNumbers)"
      ],
      "execution_count": null,
      "outputs": [
        {
          "output_type": "stream",
          "text": [
            "[1, 4, 9, 16, 25, 36, 49, 64, 81, 100]\n"
          ],
          "name": "stdout"
        }
      ]
    },
    {
      "cell_type": "code",
      "metadata": {
        "colab": {
          "base_uri": "https://localhost:8080/"
        },
        "id": "p_Gvz0WeLETV",
        "outputId": "c9e3710b-8af2-4e58-81fb-091761f3a419"
      },
      "source": [
        "#38 Program\r\n",
        "\r\n",
        "#Write a program which can map() and filter() to make a\r\n",
        "# list whose elements are square of even number in [1,2,3,4,5,6,7,8,9,10].\r\n",
        "\r\n",
        "li = [1,2,3,4,5,6,7,8,9,10]\r\n",
        "evenNumbers = list(map(lambda x: x**2, filter(lambda x: x%2==0, li)))\r\n",
        "print(evenNumbers)"
      ],
      "execution_count": null,
      "outputs": [
        {
          "output_type": "stream",
          "text": [
            "[4, 16, 36, 64, 100]\n"
          ],
          "name": "stdout"
        }
      ]
    },
    {
      "cell_type": "code",
      "metadata": {
        "colab": {
          "base_uri": "https://localhost:8080/"
        },
        "id": "33au2Zs4LUYB",
        "outputId": "cbb667ac-e368-4f74-e0eb-4d0b78a0de98"
      },
      "source": [
        "#39 Program\r\n",
        "\r\n",
        "#Write a program which can filter() to make a list \r\n",
        "#whose elements are even number between 1 and 20 (both included)\r\n",
        "\r\n",
        "evenNumbers = list(filter(lambda x: x%2==0, range(1,21)))\r\n",
        "print(evenNumbers)"
      ],
      "execution_count": null,
      "outputs": [
        {
          "output_type": "stream",
          "text": [
            "[2, 4, 6, 8, 10, 12, 14, 16, 18, 20]\n"
          ],
          "name": "stdout"
        }
      ]
    },
    {
      "cell_type": "code",
      "metadata": {
        "colab": {
          "base_uri": "https://localhost:8080/"
        },
        "id": "DXq4QIWILhGR",
        "outputId": "56b2f480-f7b8-4a3e-e334-cdf0db20a71f"
      },
      "source": [
        "#40 Program\r\n",
        "#Write a program which can map() to make a \r\n",
        "#list whose elements are square of numbers between 1 and 20 (both included).\r\n",
        "\r\n",
        "squaredNumbers = list(map(lambda x: x**2, range(1,21)))\r\n",
        "print(squaredNumbers)"
      ],
      "execution_count": null,
      "outputs": [
        {
          "output_type": "stream",
          "text": [
            "[1, 4, 9, 16, 25, 36, 49, 64, 81, 100, 121, 144, 169, 196, 225, 256, 289, 324, 361, 400]\n"
          ],
          "name": "stdout"
        }
      ]
    },
    {
      "cell_type": "code",
      "metadata": {
        "colab": {
          "base_uri": "https://localhost:8080/"
        },
        "id": "EcYyqegWLtJp",
        "outputId": "c12894b4-404a-4d20-d68e-13daae5acb74"
      },
      "source": [
        "#41 Function\r\n",
        "# Define a class named American which has a static method called printNationality.\r\n",
        "\r\n",
        "class American(object):\r\n",
        "    @staticmethod\r\n",
        "    def printNationality():\r\n",
        "        print(\"America\")\r\n",
        "\r\n",
        "anAmerican = American()\r\n",
        "anAmerican.printNationality()\r\n",
        "American.printNationality()"
      ],
      "execution_count": null,
      "outputs": [
        {
          "output_type": "stream",
          "text": [
            "America\n",
            "America\n"
          ],
          "name": "stdout"
        }
      ]
    },
    {
      "cell_type": "code",
      "metadata": {
        "colab": {
          "base_uri": "https://localhost:8080/"
        },
        "id": "sstiKKGfL6C9",
        "outputId": "4f135ef5-bc9c-4ff0-848e-d0f95f05fe44"
      },
      "source": [
        "#42 Program\r\n",
        "\r\n",
        "#Define a class named American and its subclass NewYorker.\r\n",
        "\r\n",
        "class American(object):\r\n",
        "    pass\r\n",
        "\r\n",
        "class NewYorker(American):\r\n",
        "    pass\r\n",
        "\r\n",
        "anAmerican = American()\r\n",
        "aNewYorker = NewYorker()\r\n",
        "print(anAmerican)\r\n",
        "print(aNewYorker)"
      ],
      "execution_count": null,
      "outputs": [
        {
          "output_type": "stream",
          "text": [
            "<__main__.American object at 0x7f4e81fc3f60>\n",
            "<__main__.NewYorker object at 0x7f4e81fc3358>\n"
          ],
          "name": "stdout"
        }
      ]
    },
    {
      "cell_type": "code",
      "metadata": {
        "colab": {
          "base_uri": "https://localhost:8080/"
        },
        "id": "VW6n4jnDMP_I",
        "outputId": "023f0468-d702-48b7-8cbe-4a4024f0c94d"
      },
      "source": [
        "#43 Function\r\n",
        "\r\n",
        "#Define a class named Circle which can be constructed by a radius. \r\n",
        "#The Circle class has a method which can compute the area.\r\n",
        "\r\n",
        "class Circle(object):\r\n",
        "    def __init__(self, r):\r\n",
        "        self.radius = r\r\n",
        "\r\n",
        "    def area(self):\r\n",
        "        return self.radius**2*3.14\r\n",
        "\r\n",
        "aCircle = Circle(2)\r\n",
        "print (aCircle.area())"
      ],
      "execution_count": null,
      "outputs": [
        {
          "output_type": "stream",
          "text": [
            "12.56\n"
          ],
          "name": "stdout"
        }
      ]
    },
    {
      "cell_type": "code",
      "metadata": {
        "colab": {
          "base_uri": "https://localhost:8080/"
        },
        "id": "Uf3LDXftMlYj",
        "outputId": "94b4ce85-e6b6-4c2d-9252-21cb5bbccbe7"
      },
      "source": [
        "#44 Function\r\n",
        "\r\n",
        "#Define a class named Rectangle which can be constructed by a length and width. \r\n",
        "#The Rectangle class has a method which can compute the area.\r\n",
        "\r\n",
        "class Rectangle(object):\r\n",
        "    def __init__(self, l, w):\r\n",
        "        self.length = l\r\n",
        "        self.width  = w\r\n",
        "\r\n",
        "    def area(self):\r\n",
        "        return self.length*self.width\r\n",
        "\r\n",
        "aRectangle = Rectangle(2,10)\r\n",
        "print(aRectangle.area())"
      ],
      "execution_count": null,
      "outputs": [
        {
          "output_type": "stream",
          "text": [
            "20\n"
          ],
          "name": "stdout"
        }
      ]
    },
    {
      "cell_type": "code",
      "metadata": {
        "colab": {
          "base_uri": "https://localhost:8080/"
        },
        "id": "EbbX08_FM1hi",
        "outputId": "decdd23b-1672-44ce-82f0-c9cf60d9889b"
      },
      "source": [
        "#45 Function \r\n",
        "#Define a class named Shape and its subclass Square. The Square class has an init function which takes a length as argument.\r\n",
        "#Both classes have a area function which can print the area of the shape where Shape's area is 0 by default.\r\n",
        "\r\n",
        "\r\n",
        "class Shape(object):\r\n",
        "    def __init__(self):\r\n",
        "        pass\r\n",
        "\r\n",
        "    def area(self):\r\n",
        "        return 0\r\n",
        "\r\n",
        "class Square(Shape):\r\n",
        "    def __init__(self, l):\r\n",
        "        Shape.__init__(self)\r\n",
        "        self.length = l\r\n",
        "\r\n",
        "    def area(self):\r\n",
        "        return self.length*self.length\r\n",
        "\r\n",
        "aSquare= Square(3)\r\n",
        "print(aSquare.area())"
      ],
      "execution_count": null,
      "outputs": [
        {
          "output_type": "stream",
          "text": [
            "9\n"
          ],
          "name": "stdout"
        }
      ]
    },
    {
      "cell_type": "code",
      "metadata": {
        "colab": {
          "base_uri": "https://localhost:8080/",
          "height": 201
        },
        "id": "YLCSNtkkNHHr",
        "outputId": "77f8b1b8-7b5b-4256-8d41-1ae5b027118e"
      },
      "source": [
        "#46 Program\r\n",
        "#Please raise a RuntimeError exception.\r\n",
        "\r\n",
        "raise RuntimeError('something wrong')\r\n"
      ],
      "execution_count": null,
      "outputs": [
        {
          "output_type": "error",
          "ename": "RuntimeError",
          "evalue": "ignored",
          "traceback": [
            "\u001b[0;31m---------------------------------------------------------------------------\u001b[0m",
            "\u001b[0;31mRuntimeError\u001b[0m                              Traceback (most recent call last)",
            "\u001b[0;32m<ipython-input-40-be6b55b02d23>\u001b[0m in \u001b[0;36m<module>\u001b[0;34m()\u001b[0m\n\u001b[1;32m      1\u001b[0m \u001b[0;31m#Please raise a RuntimeError exception.\u001b[0m\u001b[0;34m\u001b[0m\u001b[0;34m\u001b[0m\u001b[0;34m\u001b[0m\u001b[0m\n\u001b[1;32m      2\u001b[0m \u001b[0;34m\u001b[0m\u001b[0m\n\u001b[0;32m----> 3\u001b[0;31m \u001b[0;32mraise\u001b[0m \u001b[0mRuntimeError\u001b[0m\u001b[0;34m(\u001b[0m\u001b[0;34m'something wrong'\u001b[0m\u001b[0;34m)\u001b[0m\u001b[0;34m\u001b[0m\u001b[0;34m\u001b[0m\u001b[0m\n\u001b[0m",
            "\u001b[0;31mRuntimeError\u001b[0m: something wrong"
          ]
        }
      ]
    },
    {
      "cell_type": "code",
      "metadata": {
        "colab": {
          "base_uri": "https://localhost:8080/"
        },
        "id": "KtNSHHUsNTTb",
        "outputId": "cc31fb28-a28d-4c0c-ef2a-83bed6460aa7"
      },
      "source": [
        "#47 Function\r\n",
        "#Write a function to compute 5/0 and use try/except to catch the exceptions.\r\n",
        "\r\n",
        "def throws():\r\n",
        "    return 5/0\r\n",
        "\r\n",
        "try:\r\n",
        "    throws()\r\n",
        "except ZeroDivisionError:\r\n",
        "    print(\"division by zero!\")\r\n",
        "except Exception:\r\n",
        "    print('Caught an exception')\r\n",
        "finally:\r\n",
        "    print('In finally block for cleanup')"
      ],
      "execution_count": null,
      "outputs": [
        {
          "output_type": "stream",
          "text": [
            "division by zero!\n",
            "In finally block for cleanup\n"
          ],
          "name": "stdout"
        }
      ]
    },
    {
      "cell_type": "code",
      "metadata": {
        "colab": {
          "base_uri": "https://localhost:8080/"
        },
        "id": "j1dI4v5dNnwy",
        "outputId": "150aae88-4ca2-457d-fe4b-57c9d8944725"
      },
      "source": [
        "#48 Function\r\n",
        "\r\n",
        "#Define a custom exception class which takes a string message as attribute.\r\n",
        "\r\n",
        "class MyError(Exception):\r\n",
        "    \"\"\"My own exception class\r\n",
        "\r\n",
        "    Attributes:\r\n",
        "        msg  -- explanation of the error\r\n",
        "    \"\"\"\r\n",
        "    \r\n",
        "    def __init__(self, msg):\r\n",
        "        self.msg = msg\r\n",
        "\r\n",
        "error = MyError(\"something wrong\")\r\n",
        "print(error)"
      ],
      "execution_count": null,
      "outputs": [
        {
          "output_type": "stream",
          "text": [
            "something wrong\n"
          ],
          "name": "stdout"
        }
      ]
    },
    {
      "cell_type": "code",
      "metadata": {
        "colab": {
          "base_uri": "https://localhost:8080/"
        },
        "id": "wAMRrpEDN13t",
        "outputId": "77722a80-dc5d-4d1d-8f8a-3514095c093b"
      },
      "source": [
        "#49 Program\r\n",
        "\r\n",
        "#Assuming that we have some email addresses in the \"username@companyname.com\" format, please write program to print the user name of a given email address. Both user names and company names are composed of letters only.\r\n",
        "\r\n",
        "#Example: If the following email address is given as input to the program:\r\n",
        "\r\n",
        "#john@google.com\r\n",
        "\r\n",
        "#Then, the output of the program should be:\r\n",
        "\r\n",
        "#john\r\n",
        "\r\n",
        "#In case of input data being supplied to the question, it should be assumed to be a console input.\r\n",
        "\r\n",
        "import re\r\n",
        "emailAddress = input()\r\n",
        "pat2 = \"(\\w+)@((\\w+\\.)+(com))\"\r\n",
        "r2 = re.match(pat2,emailAddress)\r\n",
        "print(r2.group(1))"
      ],
      "execution_count": null,
      "outputs": [
        {
          "output_type": "stream",
          "text": [
            "sudhakar272@gmail.com\n",
            "sudhakar272\n"
          ],
          "name": "stdout"
        }
      ]
    },
    {
      "cell_type": "code",
      "metadata": {
        "colab": {
          "base_uri": "https://localhost:8080/"
        },
        "id": "kh0_C4BROI4a",
        "outputId": "b5823f19-7083-4e6e-8911-7a9e9505aa2b"
      },
      "source": [
        "#50 Program\r\n",
        "#Assuming that we have some email addresses in the \"username@companyname.com\" format, please write program to print the company name of a given email address. Both user names and company names are composed of letters only.\r\n",
        "\r\n",
        "#Example: If the following email address is given as input to the program:\r\n",
        "\r\n",
        "#john@google.com\r\n",
        "\r\n",
        "#Then, the output of the program should be:\r\n",
        "\r\n",
        "#google\r\n",
        "\r\n",
        "#In case of input data being supplied to the question, it should be assumed to be a console input.\r\n",
        "\r\n",
        "import re\r\n",
        "emailAddress = input()\r\n",
        "pat2 = \"(\\w+)@(\\w+)\\.(com)\"\r\n",
        "r2 = re.match(pat2,emailAddress)\r\n",
        "print(r2.group(2))\r\n",
        "\r\n"
      ],
      "execution_count": null,
      "outputs": [
        {
          "output_type": "stream",
          "text": [
            "sudhakar272@gmail.com\n",
            "gmail\n"
          ],
          "name": "stdout"
        }
      ]
    },
    {
      "cell_type": "code",
      "metadata": {
        "colab": {
          "base_uri": "https://localhost:8080/"
        },
        "id": "NWudEM3wOgFj",
        "outputId": "d97befd2-3fbb-4fe2-cdfc-7130a225dd1c"
      },
      "source": [
        "#51 Program\r\n",
        "\r\n",
        "#Write a program which accepts a sequence of words separated by whitespace as input to print the words composed of digits only.\r\n",
        "\r\n",
        "#Example: If the following words is given as input to the program:\r\n",
        "\r\n",
        "#2 cats and 3 dogs.\r\n",
        "\r\n",
        "#Then, the output of the program should be:\r\n",
        "\r\n",
        "#['2', '3']\r\n",
        "\r\n",
        "#In case of input data being supplied to the question, it should be assumed to be a console input.\r\n",
        "\r\n",
        "import re\r\n",
        "s = input()\r\n",
        "print(re.findall(\"\\d+\",s))"
      ],
      "execution_count": null,
      "outputs": [
        {
          "output_type": "stream",
          "text": [
            "2 cats and 3 dogs\n",
            "['2', '3']\n"
          ],
          "name": "stdout"
        }
      ]
    },
    {
      "cell_type": "code",
      "metadata": {
        "colab": {
          "base_uri": "https://localhost:8080/"
        },
        "id": "slMluBSsO0rR",
        "outputId": "691066f6-3ec3-49c0-9e6d-2c327d704073"
      },
      "source": [
        "#52 Program\r\n",
        "\r\n",
        "#Print a unicode string \"hello world\".\r\n",
        "\r\n",
        "unicodeString = u\"hello world!\"\r\n",
        "print(unicodeString)"
      ],
      "execution_count": null,
      "outputs": [
        {
          "output_type": "stream",
          "text": [
            "hello world!\n"
          ],
          "name": "stdout"
        }
      ]
    },
    {
      "cell_type": "code",
      "metadata": {
        "colab": {
          "base_uri": "https://localhost:8080/"
        },
        "id": "VzyGyslJPE9J",
        "outputId": "c8973241-4360-4ca2-b29b-b706e9005663"
      },
      "source": [
        "#53 Program\r\n",
        "#Write a program to compute 1/2+2/3+3/4+...+n/n+1 with a given n input by console (n>0).\r\n",
        "\r\n",
        "#Example: If the following n is given as input to the program:\r\n",
        "\r\n",
        "#5\r\n",
        "\r\n",
        "#Then, the output of the program should be:\r\n",
        "\r\n",
        "#3.55\r\n",
        "\r\n",
        "#In case of input data being supplied to the question, it should be assumed to be a console input.\r\n",
        "\r\n",
        "n=int(input())\r\n",
        "sum=0.0\r\n",
        "for i in range(1,n+1):\r\n",
        "    sum += float(float(i)/(i+1))\r\n",
        "print(sum)"
      ],
      "execution_count": null,
      "outputs": [
        {
          "output_type": "stream",
          "text": [
            "5\n",
            "3.5500000000000003\n"
          ],
          "name": "stdout"
        }
      ]
    },
    {
      "cell_type": "code",
      "metadata": {
        "colab": {
          "base_uri": "https://localhost:8080/"
        },
        "id": "HH_FnM2uQOJ0",
        "outputId": "e10b13cf-c255-47f3-a93f-928972a9ad3a"
      },
      "source": [
        "#54 Program\r\n",
        "\r\n",
        "#Write a program to compute:\r\n",
        "\r\n",
        "#f(n)=f(n-1)+100 when n>0 and f(0)=1\r\n",
        "\r\n",
        "#with a given n input by console (n>0).\r\n",
        "\r\n",
        "#Example: If the following n is given as input to the program:\r\n",
        "\r\n",
        "#5\r\n",
        "\r\n",
        "#Then, the output of the program should be:\r\n",
        "\r\n",
        "#500\r\n",
        "\r\n",
        "#In case of input data being supplied to the question, it should be assumed to be a console input\r\n",
        "\r\n",
        "def f(n):\r\n",
        "    if n==0:\r\n",
        "        return 0\r\n",
        "    else:\r\n",
        "        return f(n-1)+100\r\n",
        "\r\n",
        "n=int(input())\r\n",
        "print(f(n))"
      ],
      "execution_count": null,
      "outputs": [
        {
          "output_type": "stream",
          "text": [
            "5\n",
            "500\n"
          ],
          "name": "stdout"
        }
      ]
    },
    {
      "cell_type": "code",
      "metadata": {
        "colab": {
          "base_uri": "https://localhost:8080/"
        },
        "id": "CRje4fZJQelC",
        "outputId": "41628ce1-a750-432a-8910-d5098ff663d8"
      },
      "source": [
        "#55 Function\r\n",
        "\r\n",
        "#The Fibonacci Sequence is computed based on the following formula:\r\n",
        "\r\n",
        "#f(n)=0 if n=0 f(n)=1 if n=1 f(n)=f(n-1)+f(n-2) if n>1\r\n",
        "\r\n",
        "#Please write a program to compute the value of f(n) with a given n input by console.\r\n",
        "\r\n",
        "#Example: If the following n is given as input to the program:\r\n",
        "\r\n",
        "#7\r\n",
        "\r\n",
        "#Then, the output of the program should be:\r\n",
        "\r\n",
        "#13\r\n",
        "\r\n",
        "#In case of input data being supplied to the question, it should be assumed to be a console input.\r\n",
        "\r\n",
        "def f(n):\r\n",
        "    if n == 0: return 0\r\n",
        "    elif n == 1: return 1\r\n",
        "    else: return f(n-1)+f(n-2)\r\n",
        "\r\n",
        "n=int(input())\r\n",
        "print(f(n))"
      ],
      "execution_count": null,
      "outputs": [
        {
          "output_type": "stream",
          "text": [
            "7\n",
            "13\n"
          ],
          "name": "stdout"
        }
      ]
    },
    {
      "cell_type": "code",
      "metadata": {
        "colab": {
          "base_uri": "https://localhost:8080/"
        },
        "id": "vHZOvsbeQyab",
        "outputId": "dc4884e8-198e-46e3-da00-39b19a8a21a6"
      },
      "source": [
        "#56 Function\r\n",
        "\r\n",
        "#The Fibonacci Sequence is computed based on the following formula:\r\n",
        "\r\n",
        "#f(n)=0 if n=0 f(n)=1 if n=1 f(n)=f(n-1)+f(n-2) if n>1\r\n",
        "\r\n",
        "#Please write a program using list comprehension to print the Fibonacci Sequence in comma separated form with a given n input by console.\r\n",
        "\r\n",
        "#Example: If the following n is given as input to the program:\r\n",
        "\r\n",
        "#7\r\n",
        "\r\n",
        "#Then, the output of the program should be:\r\n",
        "\r\n",
        "#0,1,1,2,3,5,8,13\r\n",
        "\r\n",
        "def f(n):\r\n",
        "    if n == 0: return 0\r\n",
        "    elif n == 1: return 1\r\n",
        "    else: return f(n-1)+f(n-2)\r\n",
        "\r\n",
        "n=int(input())\r\n",
        "values = [str(f(x)) for x in range(0, n+1)]\r\n",
        "print(\",\".join(values))"
      ],
      "execution_count": null,
      "outputs": [
        {
          "output_type": "stream",
          "text": [
            "7\n",
            "0,1,1,2,3,5,8,13\n"
          ],
          "name": "stdout"
        }
      ]
    },
    {
      "cell_type": "code",
      "metadata": {
        "colab": {
          "base_uri": "https://localhost:8080/"
        },
        "id": "C5U29qDLRBTV",
        "outputId": "eaf8c8cb-9092-4f19-8cf2-1a26f185c55b"
      },
      "source": [
        "#57 Program\r\n",
        "\r\n",
        "#Write a program using generator to print the even numbers between 0 and n in comma separated form while n is input by console.\r\n",
        "\r\n",
        "#Example: If the following n is given as input to the program:\r\n",
        "\r\n",
        "#10\r\n",
        "\r\n",
        "#Then, the output of the program should be:\r\n",
        "\r\n",
        "#0,2,4,6,8,10\r\n",
        "\r\n",
        "def EvenGenerator(n):\r\n",
        "    i=0\r\n",
        "    while i<=n:\r\n",
        "        if i%2==0:\r\n",
        "            yield i\r\n",
        "        i+=1\r\n",
        "\r\n",
        "\r\n",
        "n=int(input())\r\n",
        "values = []\r\n",
        "for i in EvenGenerator(n):\r\n",
        "    values.append(str(i))\r\n",
        "\r\n",
        "print(\",\".join(values))"
      ],
      "execution_count": null,
      "outputs": [
        {
          "output_type": "stream",
          "text": [
            "10\n",
            "0,2,4,6,8,10\n"
          ],
          "name": "stdout"
        }
      ]
    },
    {
      "cell_type": "code",
      "metadata": {
        "colab": {
          "base_uri": "https://localhost:8080/"
        },
        "id": "4HhEfA7fRTCh",
        "outputId": "ab05a10d-1a2b-4a88-d7a3-506ad085b342"
      },
      "source": [
        "#58 Program\r\n",
        "\r\n",
        "#Please write a program using generator to print the numbers which can be divisible by 5 and 7 between 0 and n in comma separated form while n is input by console.\r\n",
        "\r\n",
        "#Example: If the following n is given as input to the program:\r\n",
        "\r\n",
        "#100\r\n",
        "\r\n",
        "#Then, the output of the program should be:\r\n",
        "\r\n",
        "#0,35,70\r\n",
        "\r\n",
        "def NumGenerator(n):\r\n",
        "    for i in range(n+1):\r\n",
        "        if i%5==0 and i%7==0:\r\n",
        "            yield i#\r\n",
        "\r\n",
        "n=int(input())\r\n",
        "values = []\r\n",
        "for i in NumGenerator(n):\r\n",
        "    values.append(str(i))\r\n",
        "\r\n",
        "print(\",\".join(values))"
      ],
      "execution_count": null,
      "outputs": [
        {
          "output_type": "stream",
          "text": [
            "100\n",
            "0,35,70\n"
          ],
          "name": "stdout"
        }
      ]
    },
    {
      "cell_type": "code",
      "metadata": {
        "colab": {
          "base_uri": "https://localhost:8080/",
          "height": 201
        },
        "id": "F1CzCdMIRiXk",
        "outputId": "40345a59-0937-406f-8ed1-e32498b49e1a"
      },
      "source": [
        "#59 Program\r\n",
        "#Please write assert statements to verify that every number in the list [2,4,6,8] is even.\r\n",
        "\r\n",
        "li = [2,4,6,8,5]\r\n",
        "for i in li:\r\n",
        "    assert i%2==0"
      ],
      "execution_count": null,
      "outputs": [
        {
          "output_type": "error",
          "ename": "AssertionError",
          "evalue": "ignored",
          "traceback": [
            "\u001b[0;31m---------------------------------------------------------------------------\u001b[0m",
            "\u001b[0;31mAssertionError\u001b[0m                            Traceback (most recent call last)",
            "\u001b[0;32m<ipython-input-64-4b1376476425>\u001b[0m in \u001b[0;36m<module>\u001b[0;34m()\u001b[0m\n\u001b[1;32m      4\u001b[0m \u001b[0mli\u001b[0m \u001b[0;34m=\u001b[0m \u001b[0;34m[\u001b[0m\u001b[0;36m2\u001b[0m\u001b[0;34m,\u001b[0m\u001b[0;36m4\u001b[0m\u001b[0;34m,\u001b[0m\u001b[0;36m6\u001b[0m\u001b[0;34m,\u001b[0m\u001b[0;36m8\u001b[0m\u001b[0;34m,\u001b[0m\u001b[0;36m5\u001b[0m\u001b[0;34m]\u001b[0m\u001b[0;34m\u001b[0m\u001b[0;34m\u001b[0m\u001b[0m\n\u001b[1;32m      5\u001b[0m \u001b[0;32mfor\u001b[0m \u001b[0mi\u001b[0m \u001b[0;32min\u001b[0m \u001b[0mli\u001b[0m\u001b[0;34m:\u001b[0m\u001b[0;34m\u001b[0m\u001b[0;34m\u001b[0m\u001b[0m\n\u001b[0;32m----> 6\u001b[0;31m     \u001b[0;32massert\u001b[0m \u001b[0mi\u001b[0m\u001b[0;34m%\u001b[0m\u001b[0;36m2\u001b[0m\u001b[0;34m==\u001b[0m\u001b[0;36m0\u001b[0m\u001b[0;34m\u001b[0m\u001b[0;34m\u001b[0m\u001b[0m\n\u001b[0m",
            "\u001b[0;31mAssertionError\u001b[0m: "
          ]
        }
      ]
    },
    {
      "cell_type": "code",
      "metadata": {
        "colab": {
          "base_uri": "https://localhost:8080/"
        },
        "id": "SVWM8igmR0g9",
        "outputId": "2c384000-e3b7-42dd-e9fb-2dcc6c0ec2ac"
      },
      "source": [
        "#60 Program \r\n",
        "#Please write a program which accepts basic mathematic expression from console and print the evaluation result.\r\n",
        "\r\n",
        "#Example: If the following string is given as input to the program:\r\n",
        "\r\n",
        "#35+3\r\n",
        "\r\n",
        "#Then, the output of the program should be:\r\n",
        "\r\n",
        "#38\r\n",
        "\r\n",
        "expression = input()\r\n",
        "print(eval(expression))"
      ],
      "execution_count": null,
      "outputs": [
        {
          "output_type": "stream",
          "text": [
            "35+3\n",
            "38\n"
          ],
          "name": "stdout"
        }
      ]
    },
    {
      "cell_type": "code",
      "metadata": {
        "id": "3MxM_4ThSKCq",
        "colab": {
          "base_uri": "https://localhost:8080/"
        },
        "outputId": "53e6cdf1-30f2-44c2-faad-144c3a7fe800"
      },
      "source": [
        "#61 Program\r\n",
        "\r\n",
        "#Please generate a random float where the value is between 10 and 100 \r\n",
        "\r\n",
        "import random\r\n",
        "print(random.random()*100)"
      ],
      "execution_count": null,
      "outputs": [
        {
          "output_type": "stream",
          "text": [
            "23.781371601599034\n"
          ],
          "name": "stdout"
        }
      ]
    },
    {
      "cell_type": "code",
      "metadata": {
        "colab": {
          "base_uri": "https://localhost:8080/"
        },
        "id": "tJr9YD30UhWf",
        "outputId": "05590a0d-d2a7-4f3f-e5a0-ddc847f0d521"
      },
      "source": [
        "#62 Program \r\n",
        "#Please generate a random float where the value is between 5 and 95 \r\n",
        "\r\n",
        "import random\r\n",
        "print(random.random()*100-5)"
      ],
      "execution_count": null,
      "outputs": [
        {
          "output_type": "stream",
          "text": [
            "50.52827315694795\n"
          ],
          "name": "stdout"
        }
      ]
    },
    {
      "cell_type": "code",
      "metadata": {
        "colab": {
          "base_uri": "https://localhost:8080/"
        },
        "id": "qLL7ucNwUs6e",
        "outputId": "f7dc1699-b907-4001-8f1f-0333933a21ee"
      },
      "source": [
        "#63 Program\r\n",
        "#Please write a program to output a random even number between 0 and 10 inclusive using random module and list comprehension.\r\n",
        "\r\n",
        "import random\r\n",
        "print(random.choice([i for i in range(11) if i%2==0]))"
      ],
      "execution_count": null,
      "outputs": [
        {
          "output_type": "stream",
          "text": [
            "6\n"
          ],
          "name": "stdout"
        }
      ]
    },
    {
      "cell_type": "code",
      "metadata": {
        "colab": {
          "base_uri": "https://localhost:8080/"
        },
        "id": "BS0F9bc2VCNj",
        "outputId": "ab29662d-0ada-4537-bfcf-940e11700e10"
      },
      "source": [
        "#  64 Program\r\n",
        "\r\n",
        "#Please write a program to compress and decompress the string \"hello world!hello world!hello world!hello world!\".\r\n",
        "\r\n",
        "\r\n",
        "import zlib\r\n",
        "s = b'hello world!hello world!hello world!hello world!'\r\n",
        "t = list(zlib.compress(s)\r\n",
        "print(t)\r\n",
        "print(zlib.decompress(t))"
      ],
      "execution_count": null,
      "outputs": [
        {
          "output_type": "stream",
          "text": [
            "b'x\\x9c\\xcbH\\xcd\\xc9\\xc9W(\\xcf/\\xcaIQ\\xcc \\x82\\r\\x00\\xbd[\\x11\\xf5'\n",
            "b'hello world!hello world!hello world!hello world!'\n"
          ],
          "name": "stdout"
        }
      ]
    },
    {
      "cell_type": "code",
      "metadata": {
        "colab": {
          "base_uri": "https://localhost:8080/"
        },
        "id": "mKogSL7iXaGI",
        "outputId": "43053e09-4486-4e1f-95fb-2a0a1e23851e"
      },
      "source": [
        "#65 Program\r\n",
        "#Please write a program to generate all sentences where subject is in \r\n",
        "subjects=[\"I\", \"You\"]\r\n",
        "verbs=[\"Play\", \"Love\"]\r\n",
        "objects=[\"Hockey\",\"Football\"]\r\n",
        "for i in range(len(subjects)):\r\n",
        "    for j in range(len(verbs)):\r\n",
        "        for k in range(len(objects)):\r\n",
        "            sentence = \"%s %s %s.\" % (subjects[i], verbs[j], objects[k])\r\n",
        "            print(sentence)"
      ],
      "execution_count": null,
      "outputs": [
        {
          "output_type": "stream",
          "text": [
            "I Play Hockey.\n",
            "I Play Football.\n",
            "I Love Hockey.\n",
            "I Love Football.\n",
            "You Play Hockey.\n",
            "You Play Football.\n",
            "You Love Hockey.\n",
            "You Love Football.\n"
          ],
          "name": "stdout"
        }
      ]
    },
    {
      "cell_type": "code",
      "metadata": {
        "id": "gd153HpASwcs",
        "colab": {
          "base_uri": "https://localhost:8080/"
        },
        "outputId": "d3db29f8-a2b4-4bf3-9a2e-9e86d37cbd9d"
      },
      "source": [
        "#66 Program \r\n",
        "\r\n",
        "#Please write a program to print the list after removing delete even numbers in [5,6,77,45,22,12,24].\r\n",
        "\r\n",
        "li = [5,6,77,45,22,12,24]\r\n",
        "li = [x for x in li if x%2!=0]\r\n",
        "print(li)"
      ],
      "execution_count": null,
      "outputs": [
        {
          "output_type": "stream",
          "text": [
            "[5, 77, 45]\n"
          ],
          "name": "stdout"
        }
      ]
    },
    {
      "cell_type": "code",
      "metadata": {
        "id": "DhxhDj8US3Fk",
        "colab": {
          "base_uri": "https://localhost:8080/"
        },
        "outputId": "7996aa6f-a2fa-4a52-80c1-091d24222c3c"
      },
      "source": [
        "#67 Program \r\n",
        "#By using list comprehension, please write a program to print the list \r\n",
        "#after removing delete numbers which are divisible by 5 and 7 in [12,24,35,70,88,120,155].\r\n",
        "\r\n",
        "li = [12,24,35,70,88,120,155]\r\n",
        "li = [x for x in li if x%5!=0 and x%7!=0]\r\n",
        "print(li)"
      ],
      "execution_count": null,
      "outputs": [
        {
          "output_type": "stream",
          "text": [
            "[12, 24, 88]\n"
          ],
          "name": "stdout"
        }
      ]
    },
    {
      "cell_type": "code",
      "metadata": {
        "id": "mchsC0mLTDDr",
        "colab": {
          "base_uri": "https://localhost:8080/"
        },
        "outputId": "3c342b7f-85d9-4bd1-e6f3-3355aa23ef3e"
      },
      "source": [
        "#68 Program\r\n",
        "#By using list comprehension, please write a program to print the list \r\n",
        "#after removing the 0th, 2nd, 4th,6th numbers in [12,24,35,70,88,120,155].\r\n",
        "\r\n",
        "li = [12,24,35,70,88,120,155]\r\n",
        "li = [x for (i,x) in enumerate(li) if i%2!=0]\r\n",
        "print(li)"
      ],
      "execution_count": null,
      "outputs": [
        {
          "output_type": "stream",
          "text": [
            "[24, 70, 120]\n"
          ],
          "name": "stdout"
        }
      ]
    },
    {
      "cell_type": "code",
      "metadata": {
        "id": "8cn5Ccp0TNYq",
        "colab": {
          "base_uri": "https://localhost:8080/"
        },
        "outputId": "063e8f35-bc54-4973-cfc6-2b19d19e8ae1"
      },
      "source": [
        "#69 Program \r\n",
        "# By using list comprehension, please write a program generate a 358 3D array whose each element is 0.\r\n",
        "\r\n",
        "array = [[ [0 for col in range(8)] for col in range(5)] for row in range(3)]\r\n",
        "print(array)"
      ],
      "execution_count": null,
      "outputs": [
        {
          "output_type": "stream",
          "text": [
            "[[[0, 0, 0, 0, 0, 0, 0, 0], [0, 0, 0, 0, 0, 0, 0, 0], [0, 0, 0, 0, 0, 0, 0, 0], [0, 0, 0, 0, 0, 0, 0, 0], [0, 0, 0, 0, 0, 0, 0, 0]], [[0, 0, 0, 0, 0, 0, 0, 0], [0, 0, 0, 0, 0, 0, 0, 0], [0, 0, 0, 0, 0, 0, 0, 0], [0, 0, 0, 0, 0, 0, 0, 0], [0, 0, 0, 0, 0, 0, 0, 0]], [[0, 0, 0, 0, 0, 0, 0, 0], [0, 0, 0, 0, 0, 0, 0, 0], [0, 0, 0, 0, 0, 0, 0, 0], [0, 0, 0, 0, 0, 0, 0, 0], [0, 0, 0, 0, 0, 0, 0, 0]]]\n"
          ],
          "name": "stdout"
        }
      ]
    },
    {
      "cell_type": "code",
      "metadata": {
        "id": "fCZIhNrwTZjQ",
        "colab": {
          "base_uri": "https://localhost:8080/"
        },
        "outputId": "d2e1595b-e4e6-44e1-91aa-c0f8e04df2a7"
      },
      "source": [
        "#70 Program\r\n",
        "\r\n",
        "#By using list comprehension, please write a program to print the list after removing the 0th,4th,5th numbers in [12,24,35,70,88,120,155].\r\n",
        "\r\n",
        "li = [12,24,35,70,88,120,155]\r\n",
        "li = [x for (i,x) in enumerate(li) if i not in (0,4,5)]\r\n",
        "print(li)"
      ],
      "execution_count": null,
      "outputs": [
        {
          "output_type": "stream",
          "text": [
            "[24, 35, 70, 155]\n"
          ],
          "name": "stdout"
        }
      ]
    },
    {
      "cell_type": "code",
      "metadata": {
        "id": "d1G-qdLbTj2z",
        "colab": {
          "base_uri": "https://localhost:8080/"
        },
        "outputId": "ee486de4-3b68-4b4e-9fe4-ffaa3581e7d9"
      },
      "source": [
        "#71 Program\r\n",
        "\r\n",
        "#By using list comprehension, please write a program to print the list after removing the value 24 in [12,24,35,24,88,120,155].\r\n",
        "\r\n",
        "li = [12,24,35,24,88,120,155]\r\n",
        "li = [x for x in li if x!=24]\r\n",
        "print(li)"
      ],
      "execution_count": null,
      "outputs": [
        {
          "output_type": "stream",
          "text": [
            "[12, 35, 88, 120, 155]\n"
          ],
          "name": "stdout"
        }
      ]
    },
    {
      "cell_type": "code",
      "metadata": {
        "id": "0FkNjlUQTuyX",
        "colab": {
          "base_uri": "https://localhost:8080/"
        },
        "outputId": "0a499de7-aad3-42a5-c3c2-1068ae40bf14"
      },
      "source": [
        "#72 Program\r\n",
        "# With two given lists [1,3,6,78,35,55] and [12,24,35,24,88,120,155], \r\n",
        "# write a program to make a list whose elements are intersection of the above given lists.\r\n",
        "\r\n",
        "set1=set([1,3,6,78,35,55])\r\n",
        "set2=set([12,24,35,24,88,120,155])\r\n",
        "set1 &= set2\r\n",
        "li=list(set1)\r\n",
        "print(li)"
      ],
      "execution_count": null,
      "outputs": [
        {
          "output_type": "stream",
          "text": [
            "[35]\n"
          ],
          "name": "stdout"
        }
      ]
    },
    {
      "cell_type": "code",
      "metadata": {
        "id": "ZZ4oMWDmUEez",
        "colab": {
          "base_uri": "https://localhost:8080/"
        },
        "outputId": "2f6e5fa0-1c94-4f14-8de1-606ac913f966"
      },
      "source": [
        "# 73 Function\r\n",
        "#With a given list [12,24,35,24,88,120,155,88,120,155], \r\n",
        "#write a program to print this list after removing all duplicate values with original order reserved.\r\n",
        "\r\n",
        "def removeDuplicate( li ):\r\n",
        "    newli=[]\r\n",
        "    seen = set()\r\n",
        "    for item in li:\r\n",
        "        if item not in seen:\r\n",
        "            seen.add( item )\r\n",
        "            newli.append(item)\r\n",
        "\r\n",
        "    return newli\r\n",
        "\r\n",
        "li=[12,24,35,24,88,120,155,88,120,155]\r\n",
        "print(removeDuplicate(li))"
      ],
      "execution_count": null,
      "outputs": [
        {
          "output_type": "stream",
          "text": [
            "[12, 24, 35, 88, 120, 155]\n"
          ],
          "name": "stdout"
        }
      ]
    },
    {
      "cell_type": "code",
      "metadata": {
        "id": "X7ebEYWqUR5E",
        "colab": {
          "base_uri": "https://localhost:8080/"
        },
        "outputId": "5f23f54b-b342-4969-c216-bad8bfb80ad9"
      },
      "source": [
        "#74 Function\r\n",
        "\r\n",
        "#Define a class Person and its two child classes: Male and Female. \r\n",
        "#All classes have a method \"getGender\" which can print \"Male\" for Male class and \"Female\" for Female class\r\n",
        "\r\n",
        "class Person(object):\r\n",
        "    def getGender( self ):\r\n",
        "        return \"Unknown\"\r\n",
        "\r\n",
        "class Male( Person ):\r\n",
        "    def getGender( self ):\r\n",
        "        return \"Male\"\r\n",
        "\r\n",
        "class Female( Person ):\r\n",
        "    def getGender( self ):\r\n",
        "        return \"Female\"\r\n",
        "\r\n",
        "aMale = Male()\r\n",
        "aFemale= Female()\r\n",
        "print(aMale.getGender())\r\n",
        "print(aFemale.getGender())"
      ],
      "execution_count": null,
      "outputs": [
        {
          "output_type": "stream",
          "text": [
            "Male\n",
            "Female\n"
          ],
          "name": "stdout"
        }
      ]
    },
    {
      "cell_type": "code",
      "metadata": {
        "id": "4OdIfMgJUhKV",
        "colab": {
          "base_uri": "https://localhost:8080/"
        },
        "outputId": "51f7b9eb-7f40-4843-829f-337373ccabd5"
      },
      "source": [
        "#75 Program\r\n",
        "\r\n",
        "#Please write a program which count and print the numbers of each character in a string input by console.\r\n",
        "\r\n",
        "#Example: If the following string is given as input to the program:\r\n",
        "\r\n",
        "#abcdefgabc\r\n",
        "\r\n",
        "#Then, the output of the program should be:\r\n",
        "\r\n",
        "#a,2 c,2 b,2 e,1 d,1 g,1 f,1\r\n",
        "\r\n",
        "dic = {}\r\n",
        "s=input()\r\n",
        "for s in s:\r\n",
        "    dic[s] = dic.get(s,0)+1\r\n",
        "print('\\n'.join(['%s,%s' % (k, v) for k, v in dic.items()]))"
      ],
      "execution_count": null,
      "outputs": [
        {
          "output_type": "stream",
          "text": [
            "abcdefgabc\n",
            "a,2\n",
            "b,2\n",
            "c,2\n",
            "d,1\n",
            "e,1\n",
            "f,1\n",
            "g,1\n"
          ],
          "name": "stdout"
        }
      ]
    },
    {
      "cell_type": "code",
      "metadata": {
        "id": "RebDouIcU7zY",
        "colab": {
          "base_uri": "https://localhost:8080/"
        },
        "outputId": "c012fe8a-47a8-4a43-f676-55fdb4a93aa2"
      },
      "source": [
        "#76 Program\r\n",
        "\r\n",
        "#Please write a program which accepts a string from console and print it in reverse order.\r\n",
        "\r\n",
        "#Example: If the following string is given as input to the program:\r\n",
        "\r\n",
        "#rise to vote sir\r\n",
        "\r\n",
        "#Then, the output of the program should be:\r\n",
        "\r\n",
        "#ris etov ot esir\r\n",
        "\r\n",
        "s=input()\r\n",
        "s = s[::-1]\r\n",
        "print(s)"
      ],
      "execution_count": null,
      "outputs": [
        {
          "output_type": "stream",
          "text": [
            "rise to vote sir\n",
            "ris etov ot esir\n"
          ],
          "name": "stdout"
        }
      ]
    },
    {
      "cell_type": "code",
      "metadata": {
        "id": "yJ4YuhY5VK45",
        "colab": {
          "base_uri": "https://localhost:8080/"
        },
        "outputId": "47dbfa61-7fc3-466a-be4c-fec514e45245"
      },
      "source": [
        "#77 Program \r\n",
        "\r\n",
        "#Please write a program which accepts a string from console and print the characters that have even indexes.\r\n",
        "\r\n",
        "#Example: If the following string is given as input to the program:\r\n",
        "\r\n",
        "#H1e2l3l4o5w6o7r8l9d\r\n",
        "\r\n",
        "#Then, the output of the program should be:\r\n",
        "\r\n",
        "#Helloworld\r\n",
        "\r\n",
        "s=input()\r\n",
        "s = s[::2]\r\n",
        "print(s)"
      ],
      "execution_count": null,
      "outputs": [
        {
          "output_type": "stream",
          "text": [
            "H1e2l3l4o5w6o7r8l9d\n",
            "Helloworld\n"
          ],
          "name": "stdout"
        }
      ]
    },
    {
      "cell_type": "code",
      "metadata": {
        "id": "u55nOYroVZlv",
        "colab": {
          "base_uri": "https://localhost:8080/"
        },
        "outputId": "73c3b8cf-2fbd-4b3f-b83a-89d3e64db04f"
      },
      "source": [
        "\r\n",
        "#Please write a program which prints all permutations of [1,2,3]\r\n",
        "import itertools\r\n",
        "print(list(itertools.permutations([1,2,3])))"
      ],
      "execution_count": null,
      "outputs": [
        {
          "output_type": "stream",
          "text": [
            "[(1, 2, 3), (1, 3, 2), (2, 1, 3), (2, 3, 1), (3, 1, 2), (3, 2, 1)]\n"
          ],
          "name": "stdout"
        }
      ]
    },
    {
      "cell_type": "code",
      "metadata": {
        "id": "ckSK7yJ6nJ1M",
        "colab": {
          "base_uri": "https://localhost:8080/"
        },
        "outputId": "e0510e85-fc2d-4dca-996a-1977118465f4"
      },
      "source": [
        "#78 Program\r\n",
        "#Write a program to solve a classic ancient Chinese puzzle: \r\n",
        "#We count 35 heads and 94 legs among the chickens and rabbits in a farm. \r\n",
        "#How many rabbits and how many chickens do we have?\r\n",
        "\r\n",
        "def solve(numheads,numlegs):\r\n",
        "    ns='No solutions!'\r\n",
        "    for i in range(numheads+1):\r\n",
        "        j=numheads-i\r\n",
        "        if 2*i+4*j==numlegs:\r\n",
        "            return i,j\r\n",
        "    return ns,ns\r\n",
        "\r\n",
        "numheads=35\r\n",
        "numlegs=94\r\n",
        "solutions=solve(numheads,numlegs)\r\n",
        "print(solutions)"
      ],
      "execution_count": null,
      "outputs": [
        {
          "output_type": "stream",
          "text": [
            "(23, 12)\n"
          ],
          "name": "stdout"
        }
      ]
    },
    {
      "cell_type": "code",
      "metadata": {
        "colab": {
          "base_uri": "https://localhost:8080/"
        },
        "id": "HF2RocZtHQz5",
        "outputId": "61c86a17-1845-466b-bb02-4222adedcf32"
      },
      "source": [
        "#Program 79\r\n",
        "# Python code to find if we can make first string \r\n",
        "# from second by deleting some characters from  \r\n",
        "# second and rearranging remaining characters. \r\n",
        "from collections import Counter \r\n",
        "  \r\n",
        "def makeString(str1,str2): \r\n",
        "  \r\n",
        "    # convert both strings into dictionaries \r\n",
        "    # output will be like str1=\"aabbcc\",  \r\n",
        "    # dict1={'a':2,'b':2,'c':2} \r\n",
        "    # str2 = 'abbbcc', dict2={'a':1,'b':3,'c':2} \r\n",
        "    dict1 = Counter(str1) \r\n",
        "    dict2 = Counter(str2) \r\n",
        "  \r\n",
        "    # take intersection of two dictionries \r\n",
        "    # output will be result = {'a':1,'b':2,'c':2} \r\n",
        "    result = dict1 & dict2 \r\n",
        "  \r\n",
        "    # compare resultant dictionary with first \r\n",
        "    # dictionary comparison first compares keys \r\n",
        "    # and then compares their corresponding values  \r\n",
        "    return result == dict1 \r\n",
        "  \r\n",
        "# Driver program \r\n",
        "if __name__ == \"__main__\": \r\n",
        "    str1 = 'ABHISHEKsinGH'\r\n",
        "    str2 = 'gfhfBHkooIHnfndSHEKsiAnG'\r\n",
        "    if (makeString(str1,str2)==True): \r\n",
        "        print(\"Possible\") \r\n",
        "    else: \r\n",
        "        print(\"Not Possible\")"
      ],
      "execution_count": 1,
      "outputs": [
        {
          "output_type": "stream",
          "text": [
            "Possible\n"
          ],
          "name": "stdout"
        }
      ]
    },
    {
      "cell_type": "code",
      "metadata": {
        "colab": {
          "base_uri": "https://localhost:8080/"
        },
        "id": "xt5Co8q7Hdte",
        "outputId": "e79d8d5b-3745-49f8-a271-b6206a8db411"
      },
      "source": [
        "#program 80\r\n",
        "# Python3 program to swap elements \r\n",
        "# at given positions \r\n",
        "  \r\n",
        "def swapPositions(list, pos1, pos2): \r\n",
        "    list[pos1],list[pos2] = list[pos2],list[pos1] \r\n",
        "    return list\r\n",
        "  \r\n",
        "List = [23, 65, 19, 90] \r\n",
        "pos1, pos2  = 1, 3\r\n",
        "print(swapPositions(List, pos1-1, pos2-1))"
      ],
      "execution_count": 2,
      "outputs": [
        {
          "output_type": "stream",
          "text": [
            "[19, 65, 23, 90]\n"
          ],
          "name": "stdout"
        }
      ]
    },
    {
      "cell_type": "code",
      "metadata": {
        "colab": {
          "base_uri": "https://localhost:8080/"
        },
        "id": "gHzL1aIvHnY6",
        "outputId": "d3025020-b712-4e77-b82e-b0826fce4303"
      },
      "source": [
        "# Program 81:\r\n",
        "# Python3 code to demonstrate  \r\n",
        "# to get tuple info. of maximum value tuple \r\n",
        "# using sorted() + lambda \r\n",
        "  \r\n",
        "# initializing list  \r\n",
        "test_list = [('Rash', 143), ('Manjeet', 200), ('Varsha', 100)] \r\n",
        "  \r\n",
        "# printing original list  \r\n",
        "print (\"Original list : \" + str(test_list)) \r\n",
        "  \r\n",
        "# using sorted() + lambda \r\n",
        "# to get tuple info. of maximum value tuple \r\n",
        "res = sorted(test_list, key = lambda i: i[1], reverse = True)[0][0] \r\n",
        "  \r\n",
        "# printing result \r\n",
        "print (\"The name with maximum score is : \" + res)"
      ],
      "execution_count": 3,
      "outputs": [
        {
          "output_type": "stream",
          "text": [
            "Original list : [('Rash', 143), ('Manjeet', 200), ('Varsha', 100)]\n",
            "The name with maximum score is : Manjeet\n"
          ],
          "name": "stdout"
        }
      ]
    },
    {
      "cell_type": "code",
      "metadata": {
        "colab": {
          "base_uri": "https://localhost:8080/"
        },
        "id": "6b5cvET-HqbO",
        "outputId": "439a4abb-9901-474f-a188-3aa177c9ef1f"
      },
      "source": [
        "#Program 82\r\n",
        "#Write a program to solve a classic ancient Chinese puzzle: \r\n",
        "#We count 35 heads and 94 legs among the chickens and rabbits in a farm. \r\n",
        "#How many rabbits and how many chickens do we have?\r\n",
        "\r\n",
        "def solve(numheads,numlegs):\r\n",
        "    ns='No solutions!'\r\n",
        "    for i in range(numheads+1):\r\n",
        "        j=numheads-i\r\n",
        "        if 2*i+4*j==numlegs:\r\n",
        "            return i,j\r\n",
        "    return ns,ns\r\n",
        "\r\n",
        "numheads=35\r\n",
        "numlegs=94\r\n",
        "solutions=solve(numheads,numlegs)\r\n",
        "print(solutions)"
      ],
      "execution_count": 4,
      "outputs": [
        {
          "output_type": "stream",
          "text": [
            "(23, 12)\n"
          ],
          "name": "stdout"
        }
      ]
    },
    {
      "cell_type": "code",
      "metadata": {
        "colab": {
          "base_uri": "https://localhost:8080/"
        },
        "id": "yN038FEuINwd",
        "outputId": "4005b6d6-2ec5-4efe-a0a8-1c8f9db642a6"
      },
      "source": [
        "#Program 83\r\n",
        "\r\n",
        "# Python3 code to demonstrate working of  \r\n",
        "# Words Frequency in String Shorthands \r\n",
        "# Using dictionary comprehension + count() + split() \r\n",
        "  \r\n",
        "# initializing string \r\n",
        "test_str = 'Gfg is best . Geeks are good and Geeks like Gfg'\r\n",
        "  \r\n",
        "# printing original string \r\n",
        "print(\"The original string is : \" + str(test_str)) \r\n",
        "  \r\n",
        "# Words Frequency in String Shorthands \r\n",
        "# Using dictionary comprehension + count() + split() \r\n",
        "res = {key: test_str.count(key) for key in test_str.split()} \r\n",
        "  \r\n",
        "# printing result  \r\n",
        "print(\"The words frequency : \" + str(res))  "
      ],
      "execution_count": 5,
      "outputs": [
        {
          "output_type": "stream",
          "text": [
            "The original string is : Gfg is best . Geeks are good and Geeks like Gfg\n",
            "The words frequency : {'Gfg': 2, 'is': 1, 'best': 1, '.': 1, 'Geeks': 2, 'are': 1, 'good': 1, 'and': 1, 'like': 1}\n"
          ],
          "name": "stdout"
        }
      ]
    },
    {
      "cell_type": "code",
      "metadata": {
        "colab": {
          "base_uri": "https://localhost:8080/"
        },
        "id": "LI7sNgokI8oK",
        "outputId": "00b4122c-7cf2-44ea-993b-87e74059a91b"
      },
      "source": [
        "#Program 84\r\n",
        "#Python program to Concatenate Kth index words of String\r\n",
        "# initializing string \r\n",
        "test_str = 'geeksforgeeks best for geeks'\r\n",
        "  \r\n",
        "# printing original string \r\n",
        "print(\"The original string is : \" + test_str) \r\n",
        "  \r\n",
        "# initializing K  \r\n",
        "K = 2\r\n",
        "  \r\n",
        "# joining Kth index of each word \r\n",
        "res = ''.join([sub[K] for sub in test_str.split()]) \r\n",
        "      \r\n",
        "# printing result  \r\n",
        "print(\"The K joined String is : \" + str(res))"
      ],
      "execution_count": 6,
      "outputs": [
        {
          "output_type": "stream",
          "text": [
            "The original string is : geeksforgeeks best for geeks\n",
            "The K joined String is : esre\n"
          ],
          "name": "stdout"
        }
      ]
    },
    {
      "cell_type": "code",
      "metadata": {
        "colab": {
          "base_uri": "https://localhost:8080/"
        },
        "id": "7NnQGuNBJfPY",
        "outputId": "844a5c26-0d46-428b-d40e-98b8d584299a"
      },
      "source": [
        "#Program 86\r\n",
        "#Count all prefixes in given string with greatest frequency\r\n",
        "\r\n",
        "#Python program to Count all \r\n",
        "# prefixes in given string with \r\n",
        "# greatest frequency \r\n",
        "  \r\n",
        "# Function to print the prefixes \r\n",
        "def prefix(string1, alphabet1, alphabet2): \r\n",
        "    count = 0\r\n",
        "    non_empty_string = \"\" \r\n",
        "      \r\n",
        "    string2 = list(string1) \r\n",
        "      \r\n",
        "    # Loop for iterating the length of \r\n",
        "    # the string and print the prefixes  \r\n",
        "    # and the count of query prefixes. \r\n",
        "    for i in range(0, len(string2)): \r\n",
        "        non_empty_string = non_empty_string + (string2[i]) \r\n",
        "          \r\n",
        "        if (non_empty_string.count(alphabet1) > \r\n",
        "            non_empty_string.count(alphabet2)): \r\n",
        "                  \r\n",
        "            # prints all required prefixes \r\n",
        "            print(non_empty_string) \r\n",
        "              \r\n",
        "            # increment count \r\n",
        "            count += 1\r\n",
        "              \r\n",
        "    # returns count of the \r\n",
        "    # required prefixes \r\n",
        "    return(count) \r\n",
        "      \r\n",
        "# Driver Code \r\n",
        "print(prefix(\"wondersforwonders\", \"o\", \"w\"))"
      ],
      "execution_count": 9,
      "outputs": [
        {
          "output_type": "stream",
          "text": [
            "wondersfo\n",
            "wondersfor\n",
            "wondersforwo\n",
            "wondersforwon\n",
            "wondersforwond\n",
            "wondersforwonde\n",
            "wondersforwonder\n",
            "wondersforwonders\n",
            "8\n"
          ],
          "name": "stdout"
        }
      ]
    },
    {
      "cell_type": "code",
      "metadata": {
        "colab": {
          "base_uri": "https://localhost:8080/"
        },
        "id": "-LWlEWgmKKlE",
        "outputId": "a85ea3a1-128c-4caa-a5be-4949abdb05f3"
      },
      "source": [
        "#Program 87\r\n",
        "# Break a list into chunks of size N in Python\r\n",
        "\r\n",
        "my_list = ['geeks', 'for', 'geeks', 'like', \r\n",
        "           'geeky','nerdy', 'geek', 'love', \r\n",
        "               'questions','words', 'life'] \r\n",
        "  \r\n",
        "# Yield successive n-sized \r\n",
        "# chunks from l. \r\n",
        "def divide_chunks(l, n): \r\n",
        "      \r\n",
        "    # looping till length l \r\n",
        "    for i in range(0, len(l), n):  \r\n",
        "        yield l[i:i + n] \r\n",
        "  \r\n",
        "# How many elements each \r\n",
        "# list should have \r\n",
        "n = 5\r\n",
        "  \r\n",
        "x = list(divide_chunks(my_list, n)) \r\n",
        "print (x)"
      ],
      "execution_count": 10,
      "outputs": [
        {
          "output_type": "stream",
          "text": [
            "[['geeks', 'for', 'geeks', 'like', 'geeky'], ['nerdy', 'geek', 'love', 'questions', 'words'], ['life']]\n"
          ],
          "name": "stdout"
        }
      ]
    },
    {
      "cell_type": "code",
      "metadata": {
        "colab": {
          "base_uri": "https://localhost:8080/"
        },
        "id": "eW5DVciPKlUm",
        "outputId": "3c0c87c0-4388-4007-f269-d86d104c4ea6"
      },
      "source": [
        "#Program 88\r\n",
        "\r\n",
        "# Python code to get the Cumulative sum of a list \r\n",
        "def Cumulative(lists): \r\n",
        "    cu_list = [] \r\n",
        "    length = len(lists) \r\n",
        "    cu_list = [sum(lists[0:x:1]) for x in range(0, length+1)] \r\n",
        "    return cu_list[1:]\r\n",
        " \r\n",
        "# Driver Code \r\n",
        "lists = [10, 20, 30, 40, 50] \r\n",
        "print (Cumulative(lists))"
      ],
      "execution_count": 11,
      "outputs": [
        {
          "output_type": "stream",
          "text": [
            "[10, 30, 60, 100, 150]\n"
          ],
          "name": "stdout"
        }
      ]
    },
    {
      "cell_type": "code",
      "metadata": {
        "colab": {
          "base_uri": "https://localhost:8080/"
        },
        "id": "D8gB32QLKzbK",
        "outputId": "89e3e0ae-5fcc-4066-919c-d2892ccea983"
      },
      "source": [
        "#Function 89\r\n",
        "#Python K’th Non-repeating Character in Python using List Comprehension and OrderedDict\r\n",
        "\r\n",
        "\r\n",
        "# Function to find k'th non repeating character  \r\n",
        "# in string  \r\n",
        "from collections import OrderedDict  \r\n",
        "  \r\n",
        "def kthRepeating(input,k):  \r\n",
        "  \r\n",
        "    # OrderedDict returns a dictionary data  \r\n",
        "        # structure having characters of input  \r\n",
        "    # string as keys in the same order they  \r\n",
        "        # were inserted and 0 as their default value  \r\n",
        "    dict=OrderedDict.fromkeys(input,0)  \r\n",
        "  \r\n",
        "    # now traverse input string to calculate  \r\n",
        "        # frequency of each character  \r\n",
        "    for ch in input:  \r\n",
        "        dict[ch]+=1\r\n",
        "  \r\n",
        "    # now extract list of all keys whose value  \r\n",
        "        # is 1 from dict Ordered Dictionary  \r\n",
        "    nonRepeatDict = [key for (key,value) in dict.items() if value==1]  \r\n",
        "      \r\n",
        "    # now return (k-1)th character from above list  \r\n",
        "    if len(nonRepeatDict) < k:  \r\n",
        "        return 'Less than k non-repeating characters in input.' \r\n",
        "    else:  \r\n",
        "        return nonRepeatDict[k-1]  \r\n",
        "  \r\n",
        "# Driver function  \r\n",
        "if __name__ == \"__main__\":  \r\n",
        "    input = \"geeksforgeeks\"\r\n",
        "    k = 3\r\n",
        "    print (kthRepeating(input, k))  "
      ],
      "execution_count": 12,
      "outputs": [
        {
          "output_type": "stream",
          "text": [
            "r\n"
          ],
          "name": "stdout"
        }
      ]
    },
    {
      "cell_type": "code",
      "metadata": {
        "colab": {
          "base_uri": "https://localhost:8080/"
        },
        "id": "X2uaZLsMLdr9",
        "outputId": "e1b59719-924c-4d7f-ea0a-2f56fbe81689"
      },
      "source": [
        "#Function 90\r\n",
        "\r\n",
        "# function to double the number \r\n",
        "def num (n) : \r\n",
        "    return n * 2\r\n",
        "          \r\n",
        "lst = [2, 44, 5.5, 6, -7] \r\n",
        "  \r\n",
        "# suppose we want to call function \r\n",
        "# 'num' for each element of lst, \r\n",
        "# we use map \r\n",
        "  \r\n",
        "# creates a map object \r\n",
        "x = map(num, lst)  \r\n",
        "print(x)  \r\n",
        "  \r\n",
        "# returns list \r\n",
        "print(list(x))   "
      ],
      "execution_count": 13,
      "outputs": [
        {
          "output_type": "stream",
          "text": [
            "<map object at 0x7fb6ba5f4ef0>\n",
            "[4, 88, 11.0, 12, -14]\n"
          ],
          "name": "stdout"
        }
      ]
    },
    {
      "cell_type": "code",
      "metadata": {
        "colab": {
          "base_uri": "https://localhost:8080/"
        },
        "id": "JnjE9FpKLidr",
        "outputId": "31d5d61c-e235-4dc9-ff09-1662f25a7bdd"
      },
      "source": [
        "#Program 91\r\n",
        "\r\n",
        "#Possible Words using given characters in Python\r\n",
        "\r\n",
        "# Function to print words which can be created \r\n",
        "# using given set of characters \r\n",
        "  \r\n",
        "  \r\n",
        "  \r\n",
        "def charCount(word): \r\n",
        "    dict = {} \r\n",
        "    for i in word: \r\n",
        "        dict[i] = dict.get(i, 0) + 1\r\n",
        "    return dict\r\n",
        "  \r\n",
        "  \r\n",
        "def possible_words(lwords, charSet): \r\n",
        "    for word in lwords: \r\n",
        "        flag = 1\r\n",
        "        chars = charCount(word) \r\n",
        "        for key in chars: \r\n",
        "            if key not in charSet: \r\n",
        "                flag = 0\r\n",
        "            else: \r\n",
        "                if charSet.count(key) != chars[key]: \r\n",
        "                    flag = 0\r\n",
        "        if flag == 1: \r\n",
        "            print(word) \r\n",
        "  \r\n",
        "if __name__ == \"__main__\": \r\n",
        "    input = ['goo', 'bat', 'me', 'eat', 'goal', 'boy', 'run'] \r\n",
        "    charSet = ['e', 'o', 'b', 'a', 'm', 'g', 'l'] \r\n",
        "    possible_words(input, charSet)"
      ],
      "execution_count": 14,
      "outputs": [
        {
          "output_type": "stream",
          "text": [
            "me\n",
            "goal\n"
          ],
          "name": "stdout"
        }
      ]
    },
    {
      "cell_type": "code",
      "metadata": {
        "colab": {
          "base_uri": "https://localhost:8080/"
        },
        "id": "VGE7jOT4MAT7",
        "outputId": "a8f8ff4d-7ffd-4bfc-bca6-220f4f794118"
      },
      "source": [
        "#Program 92\r\n",
        "\r\n",
        "#Python | Print an Inverted Star Pattern\r\n",
        "\r\n",
        "\r\n",
        "# python 3 code to print inverted star \r\n",
        "# pattern  \r\n",
        "  \r\n",
        "# n is the number of rows in which \r\n",
        "# star is going to be printed. \r\n",
        "n=11\r\n",
        "  \r\n",
        "# i is going to be enabled to \r\n",
        "# range between n-i t 0 with a \r\n",
        "# decrement of 1 with each iteration. \r\n",
        "# and in print function, for each iteration, \r\n",
        "# ” ” is multiplied with n-i and ‘*’ is \r\n",
        "# multiplied with i to create correct \r\n",
        "# space before of the stars. \r\n",
        "for i in range (n, 0, -1): \r\n",
        "    print((n-i) * ' ' + i * '*') "
      ],
      "execution_count": 16,
      "outputs": [
        {
          "output_type": "stream",
          "text": [
            "***********\n",
            " **********\n",
            "  *********\n",
            "   ********\n",
            "    *******\n",
            "     ******\n",
            "      *****\n",
            "       ****\n",
            "        ***\n",
            "         **\n",
            "          *\n"
          ],
          "name": "stdout"
        }
      ]
    },
    {
      "cell_type": "code",
      "metadata": {
        "colab": {
          "base_uri": "https://localhost:8080/"
        },
        "id": "ZtCQcCAuMptR",
        "outputId": "e8656a81-0f12-473b-b083-33a31ebec831"
      },
      "source": [
        "#Program 93\r\n",
        "\r\n",
        "\r\n",
        "# Python program to print pattern G \r\n",
        "def Pattern(line): \r\n",
        "    pat=\"\" \r\n",
        "    for i in range(0,line):     \r\n",
        "        for j in range(0,line):      \r\n",
        "            if ((j == 1 and i != 0 and i != line-1) or ((i == 0 or\r\n",
        "                i == line-1) and j > 1 and j < line-2) or (i == ((line-1)/2) \r\n",
        "                and j > line-5 and j < line-1) or (j == line-2 and\r\n",
        "                i != 0 and i != line-1 and i >=((line-1)/2))):   \r\n",
        "                pat=pat+\"*\"   \r\n",
        "            else:       \r\n",
        "                pat=pat+\" \"   \r\n",
        "        pat=pat+\"\\n\"   \r\n",
        "    return pat \r\n",
        "   \r\n",
        "# Driver Code \r\n",
        "line = 7\r\n",
        "print(Pattern(line)) "
      ],
      "execution_count": 20,
      "outputs": [
        {
          "output_type": "stream",
          "text": [
            "  ***  \n",
            " *     \n",
            " *     \n",
            " * *** \n",
            " *   * \n",
            " *   * \n",
            "  ***  \n",
            "\n"
          ],
          "name": "stdout"
        }
      ]
    },
    {
      "cell_type": "code",
      "metadata": {
        "colab": {
          "base_uri": "https://localhost:8080/"
        },
        "id": "PkrApzaiMzun",
        "outputId": "0a13ae64-264e-4f61-ec8c-e7e9e5887f00"
      },
      "source": [
        "#Program 94\r\n",
        "#Python Program for Find sum of odd factors of a number\r\n",
        "\r\n",
        "# Formula based Python3 program  \r\n",
        "# to find sum of all divisors \r\n",
        "# of n. \r\n",
        "import math \r\n",
        "  \r\n",
        "# Returns sum of all factors \r\n",
        "# of n. \r\n",
        "def sumofoddFactors( n ): \r\n",
        "      \r\n",
        "    # Traversing through all  \r\n",
        "    # prime factors. \r\n",
        "    res = 1\r\n",
        "      \r\n",
        "    # ignore even factors by  \r\n",
        "    # of 2 \r\n",
        "    while n % 2 == 0: \r\n",
        "        n = n // 2\r\n",
        "      \r\n",
        "    for i in range(3, int(math.sqrt(n) + 1)): \r\n",
        "          \r\n",
        "        # While i divides n, print \r\n",
        "        # i and divide n \r\n",
        "        count = 0\r\n",
        "        curr_sum = 1\r\n",
        "        curr_term = 1\r\n",
        "        while n % i == 0: \r\n",
        "            count+=1\r\n",
        "              \r\n",
        "            n = n // i \r\n",
        "            curr_term *= i \r\n",
        "            curr_sum += curr_term \r\n",
        "          \r\n",
        "        res *= curr_sum \r\n",
        "      \r\n",
        "    # This condition is to \r\n",
        "    # handle the case when \r\n",
        "    # n is a prime number. \r\n",
        "    if n >= 2: \r\n",
        "        res *= (1 + n) \r\n",
        "      \r\n",
        "    return res \r\n",
        "  \r\n",
        "# Driver code \r\n",
        "n = 30\r\n",
        "print(sumofoddFactors(n)) \r\n"
      ],
      "execution_count": 21,
      "outputs": [
        {
          "output_type": "stream",
          "text": [
            "24\n"
          ],
          "name": "stdout"
        }
      ]
    },
    {
      "cell_type": "code",
      "metadata": {
        "colab": {
          "base_uri": "https://localhost:8080/"
        },
        "id": "ab1M7z3CNHgV",
        "outputId": "32d7c99a-6147-4fb0-8c65-1fbe16c7805f"
      },
      "source": [
        "#Program 95\r\n",
        "#Merge k sorted arrays | Set 1\r\n",
        "\r\n",
        "\"\"\" \r\n",
        "Python3 program to merge k sorted arrays of size n each \r\n",
        "\"\"\"\r\n",
        "import sys \r\n",
        "from typing import List, Optional \r\n",
        "Matrix = List[List[int]] \r\n",
        "  \r\n",
        "  \r\n",
        "class MinHeapNode: \r\n",
        "    def __init__(self, el, i, j): \r\n",
        "        self.element = el # the element to be sorted \r\n",
        "        self.i = i         # index of array from which element is taken \r\n",
        "        self.j = j         # index of next element to be picked from array \r\n",
        "  \r\n",
        "  \r\n",
        "class MinHeap: \r\n",
        "    def __init__(self, ar: List[MinHeapNode], size: int): \r\n",
        "        self.heap_size = size \r\n",
        "        self.heap_arr = ar \r\n",
        "        i = (self.heap_size - 1) // 2\r\n",
        "        while i >= 0: \r\n",
        "            self.min_heapify(i) \r\n",
        "            i -= 1\r\n",
        "  \r\n",
        "    \"\"\" \r\n",
        "    A recursive method to heapify a subtree \r\n",
        "    with the root at given index. This method \r\n",
        "    assumes that the subtree are already heapified \r\n",
        "    \"\"\"\r\n",
        "    def min_heapify(self, i): \r\n",
        "        l = left(i) \r\n",
        "        r = right(i) \r\n",
        "        smallest = i \r\n",
        "        if l < self.heap_size and self.heap_arr[l].element < self.heap_arr[i].element: \r\n",
        "            smallest = l \r\n",
        "        if r < self.heap_size and self.heap_arr[r].element < self.heap_arr[smallest].element: \r\n",
        "            smallest = r \r\n",
        "        if smallest != i: \r\n",
        "            swap(self.heap_arr, i, smallest) \r\n",
        "            self.min_heapify(smallest) \r\n",
        "  \r\n",
        "    def get_min(self) -> Optional: \r\n",
        "        if self.heap_size <= 0: \r\n",
        "            print('Heap underflow') \r\n",
        "            return None\r\n",
        "        return self.heap_arr[0] \r\n",
        "  \r\n",
        "    # Replace root with new root \r\n",
        "    def replace_min(self, root): \r\n",
        "        self.heap_arr[0] = root \r\n",
        "        self.min_heapify(0) \r\n",
        "  \r\n",
        "  \r\n",
        "def left(i): \r\n",
        "    return 2 * i + 1\r\n",
        "  \r\n",
        "  \r\n",
        "def right(i): \r\n",
        "    return 2 * i + 2\r\n",
        "  \r\n",
        "  \r\n",
        "def swap(arr: List[MinHeapNode], i, j): \r\n",
        "    temp = arr[i] \r\n",
        "    arr[i] = arr[j] \r\n",
        "    arr[j] = temp \r\n",
        "  \r\n",
        "  \r\n",
        "def merge_k_sorted_arrays(arr: Matrix, k: int): \r\n",
        "    h_arr = [] \r\n",
        "    result_size = 0\r\n",
        "    for i in range(len(arr)): \r\n",
        "        node = MinHeapNode(arr[i][0], i, 1) \r\n",
        "        h_arr.append(node) \r\n",
        "        result_size += len(arr[i]) \r\n",
        "  \r\n",
        "    min_heap = MinHeap(h_arr, k) \r\n",
        "    result = [0]*result_size \r\n",
        "    for i in range(result_size): \r\n",
        "        root = min_heap.get_min() \r\n",
        "        result[i] = root.element \r\n",
        "        if root.j < len(arr[root.i]): \r\n",
        "            root.element = arr[root.i][root.j] \r\n",
        "            root.j += 1\r\n",
        "        else: \r\n",
        "            root.element = sys.maxsize \r\n",
        "        min_heap.replace_min(root) \r\n",
        "    for x in result: \r\n",
        "        print(x, end=' ') \r\n",
        "    print() \r\n",
        "  \r\n",
        "  \r\n",
        "if __name__ == '__main__': \r\n",
        "    arr = [ \r\n",
        "        [2, 6, 12, 34], \r\n",
        "        [1, 9, 20, 1000], \r\n",
        "        [23, 34, 90, 2000] \r\n",
        "    ] \r\n",
        "    print('Merged Array is:') \r\n",
        "    merge_k_sorted_arrays(arr, len(arr)) \r\n",
        "  "
      ],
      "execution_count": 22,
      "outputs": [
        {
          "output_type": "stream",
          "text": [
            "Merged Array is:\n",
            "1 2 6 9 12 20 23 34 34 90 1000 2000 \n"
          ],
          "name": "stdout"
        }
      ]
    },
    {
      "cell_type": "code",
      "metadata": {
        "colab": {
          "base_uri": "https://localhost:8080/"
        },
        "id": "0on5laAjNh29",
        "outputId": "d593d13d-fdb4-4ebc-e8bc-6559df75da6e"
      },
      "source": [
        "#Program 96\r\n",
        "#Python program to demonstrate working of extended  \r\n",
        "# Euclidean Algorithm  \r\n",
        "     \r\n",
        "# function for extended Euclidean Algorithm  \r\n",
        "def gcdExtended(a, b):  \r\n",
        "    # Base Case  \r\n",
        "    if a == 0 :   \r\n",
        "        return b,0,1\r\n",
        "             \r\n",
        "    gcd,x1,y1 = gcdExtended(b%a, a)  \r\n",
        "     \r\n",
        "    # Update x and y using results of recursive  \r\n",
        "    # call  \r\n",
        "    x = y1 - (b//a) * x1  \r\n",
        "    y = x1  \r\n",
        "     \r\n",
        "    return gcd,x,y \r\n",
        "      \r\n",
        "  \r\n",
        "# Driver code \r\n",
        "a, b = 35,15\r\n",
        "g, x, y = gcdExtended(a, b)  \r\n",
        "print(\"gcd(\", a , \",\" , b, \") = \", g)"
      ],
      "execution_count": 25,
      "outputs": [
        {
          "output_type": "stream",
          "text": [
            "gcd( 35 , 15 ) =  5\n"
          ],
          "name": "stdout"
        }
      ]
    },
    {
      "cell_type": "code",
      "metadata": {
        "colab": {
          "base_uri": "https://localhost:8080/"
        },
        "id": "vokijQ_OOPYX",
        "outputId": "afd10980-d066-413f-a369-f50dde6cbfc1"
      },
      "source": [
        "#Function 97\r\n",
        "#Python program to convert time from 12 hour to 24 hour format\r\n",
        "\r\n",
        "\r\n",
        "# Python program to convert time \r\n",
        "# from 12 hour to 24 hour format \r\n",
        "  \r\n",
        "# Function to convert the date format \r\n",
        "def convert24(str1): \r\n",
        "      \r\n",
        "    # Checking if last two elements of time \r\n",
        "    # is AM and first two elements are 12 \r\n",
        "    if str1[-2:] == \"AM\" and str1[:2] == \"12\": \r\n",
        "        return \"00\" + str1[2:-2] \r\n",
        "          \r\n",
        "    # remove the AM     \r\n",
        "    elif str1[-2:] == \"AM\": \r\n",
        "        return str1[:-2] \r\n",
        "      \r\n",
        "    # Checking if last two elements of time \r\n",
        "    # is PM and first two elements are 12    \r\n",
        "    elif str1[-2:] == \"PM\" and str1[:2] == \"12\": \r\n",
        "        return str1[:-2] \r\n",
        "          \r\n",
        "    else: \r\n",
        "          \r\n",
        "        # add 12 to hours and remove PM \r\n",
        "        return str(int(str1[:2]) + 12) + str1[2:8] \r\n",
        "  \r\n",
        "# Driver Code         \r\n",
        "print(convert24(\"08:05:45 PM\"))"
      ],
      "execution_count": 26,
      "outputs": [
        {
          "output_type": "stream",
          "text": [
            "20:05:45\n"
          ],
          "name": "stdout"
        }
      ]
    },
    {
      "cell_type": "code",
      "metadata": {
        "colab": {
          "base_uri": "https://localhost:8080/"
        },
        "id": "3JGFQn90OZLI",
        "outputId": "e39d58f5-fc49-498f-ebd2-5cde99b2b5d6"
      },
      "source": [
        "#Program 98\r\n",
        "#Python Program for Program to Print Matrix in Z form\r\n",
        "\r\n",
        "# Python program to print a  \r\n",
        "# square matrix in Z form \r\n",
        "  \r\n",
        "arr = [[4, 5, 6, 8],  \r\n",
        "        [1, 2, 3, 1],  \r\n",
        "        [7, 8, 9, 4],  \r\n",
        "        [1, 8, 7, 5]] \r\n",
        "  \r\n",
        "n = len(arr[0]) \r\n",
        "                   \r\n",
        "i=0\r\n",
        "for j in range(0, n-1): \r\n",
        "    print(arr[i][j], end =\" \")  \r\n",
        "          \r\n",
        "k = 1\r\n",
        "for i in range(0, n): \r\n",
        "    for j in range(n, 0, -1): \r\n",
        "        if(j==n-k): \r\n",
        "            print(arr[i][j], end = \" \")  \r\n",
        "            break;  \r\n",
        "    k+=1\r\n",
        "  \r\n",
        "# Print last row \r\n",
        "i=n-1;  \r\n",
        "for j in range(0, n): \r\n",
        "    print(arr[i][j], end = \" \")"
      ],
      "execution_count": 27,
      "outputs": [
        {
          "output_type": "stream",
          "text": [
            "4 5 6 8 3 8 1 8 7 5 "
          ],
          "name": "stdout"
        }
      ]
    },
    {
      "cell_type": "code",
      "metadata": {
        "colab": {
          "base_uri": "https://localhost:8080/"
        },
        "id": "H0euEnreOoqk",
        "outputId": "bd6239da-8056-40cb-9262-2876dc0bf21e"
      },
      "source": [
        "#Program 99\r\n",
        "#Python program to check if the list contains three consecutive common numbers in Python\r\n",
        "\r\n",
        "\r\n",
        "# creating the array \r\n",
        "arr = [4, 5, 5, 5, 3, 8] \r\n",
        "  \r\n",
        "# size of the list \r\n",
        "size = len(arr) \r\n",
        "  \r\n",
        "# looping till length - 2 \r\n",
        "for i in range(size - 2): \r\n",
        "  \r\n",
        "    # checking the conditions \r\n",
        "    if arr[i] == arr[i + 1] and arr[i + 1] == arr[i + 2]: \r\n",
        "  \r\n",
        "        # printing the element as the  \r\n",
        "        # conditions are satisfied  \r\n",
        "        print(arr[i]) \r\n",
        "\r\n"
      ],
      "execution_count": 28,
      "outputs": [
        {
          "output_type": "stream",
          "text": [
            "5\n"
          ],
          "name": "stdout"
        }
      ]
    },
    {
      "cell_type": "code",
      "metadata": {
        "colab": {
          "base_uri": "https://localhost:8080/"
        },
        "id": "ky0PmMtEO7jh",
        "outputId": "3bfa7ad1-d8b1-4130-9c3e-2602145b7a1f"
      },
      "source": [
        "#100 Program\r\n",
        "\r\n",
        "#Python Program for Check if all digits of a number divide it\r\n",
        "\r\n",
        "#Python 3 program to\r\n",
        "# check the number is\r\n",
        "# divisible by all \r\n",
        "# digits are not.\r\n",
        " \r\n",
        "# Function to check \r\n",
        "# the divisibility \r\n",
        "# of the number by\r\n",
        "# its digit.\r\n",
        "def checkDivisibility(n, digit) :\r\n",
        "     \r\n",
        "    # If the digit divides the\r\n",
        "    # number then return true\r\n",
        "    # else return false.\r\n",
        "    return (digit != 0 and n % digit == 0)\r\n",
        "     \r\n",
        "# Function to check if\r\n",
        "# all digits of n divide\r\n",
        "# it or not\r\n",
        "def allDigitsDivide( n) :\r\n",
        "     \r\n",
        "    temp = n\r\n",
        "    while (temp > 0) :\r\n",
        "         \r\n",
        "        # Taking the digit of\r\n",
        "        # the number into digit\r\n",
        "        # var.\r\n",
        "        digit = temp % 10\r\n",
        "        if ((checkDivisibility(n, digit)) == False) :\r\n",
        "            return False\r\n",
        " \r\n",
        "        temp = temp // 10\r\n",
        "     \r\n",
        "    return True\r\n",
        " \r\n",
        "# Driver function\r\n",
        "n = 128\r\n",
        " \r\n",
        "if (allDigitsDivide(n)) :\r\n",
        "    print(\"Yes\")\r\n",
        "else :\r\n",
        "    print(\"No\" )"
      ],
      "execution_count": 30,
      "outputs": [
        {
          "output_type": "stream",
          "text": [
            "Yes\n"
          ],
          "name": "stdout"
        }
      ]
    }
  ]
}